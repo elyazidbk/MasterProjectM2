{
 "cells": [
  {
   "cell_type": "code",
   "execution_count": null,
   "metadata": {},
   "outputs": [],
   "source": [
    "from tradingStratClass import trading_strat, basicStrat\n",
    "from orderClass import orders\n",
    "from orderBookClass import OBData\n",
    "import numpy as np\n",
    "import pandas as pd\n",
    "from tqdm import tqdm"
   ]
  },
  {
   "cell_type": "code",
   "execution_count": 2,
   "metadata": {},
   "outputs": [],
   "source": [
    "dataClass = OBData(pd.read_csv(r'/Users/leo/Downloads/BTCUSD_241227-bookTicker-2024-09-01.csv', sep=\",\"))"
   ]
  },
  {
   "cell_type": "code",
   "execution_count": 3,
   "metadata": {},
   "outputs": [],
   "source": [
    "autoTrader = basicStrat(\"autoTrader\")"
   ]
  },
  {
   "cell_type": "code",
   "execution_count": null,
   "metadata": {},
   "outputs": [
    {
     "name": "stderr",
     "output_type": "stream",
     "text": [
      "  0%|          | 0/654359 [00:00<?, ?it/s]\n"
     ]
    },
    {
     "name": "stdout",
     "output_type": "stream",
     "text": [
      "{0: [1725148803813.0, 61352.2, -1, None, 0]}\n"
     ]
    },
    {
     "ename": "NameError",
     "evalue": "name 'orint' is not defined",
     "output_type": "error",
     "traceback": [
      "\u001b[0;31m---------------------------------------------------------------------------\u001b[0m",
      "\u001b[0;31mNameError\u001b[0m                                 Traceback (most recent call last)",
      "Cell \u001b[0;32mIn[4], line 3\u001b[0m\n\u001b[1;32m      1\u001b[0m \u001b[38;5;28;01mfor\u001b[39;00m i \u001b[38;5;129;01min\u001b[39;00m tqdm(\u001b[38;5;28mrange\u001b[39m(\u001b[38;5;28mlen\u001b[39m(dataClass\u001b[38;5;241m.\u001b[39mOBData_))):\n\u001b[1;32m      2\u001b[0m     orderClass \u001b[38;5;241m=\u001b[39m orders(dataClass\u001b[38;5;241m.\u001b[39mOBData_[i])\n\u001b[0;32m----> 3\u001b[0m     \u001b[43mautoTrader\u001b[49m\u001b[38;5;241;43m.\u001b[39;49m\u001b[43mstrategy\u001b[49m\u001b[43m(\u001b[49m\u001b[43morderClass\u001b[49m\u001b[43m)\u001b[49m\n",
      "File \u001b[0;32m~/Desktop/EDHEC MsC FENg/Master Project/tradingStratClass.py:38\u001b[0m, in \u001b[0;36mbasicStrat.strategy\u001b[0;34m(self, orderClass)\u001b[0m\n\u001b[1;32m     35\u001b[0m     orderClass\u001b[38;5;241m.\u001b[39msend_order(\u001b[38;5;28mself\u001b[39m, price, volume)\n\u001b[1;32m     36\u001b[0m     \u001b[38;5;28mself\u001b[39m\u001b[38;5;241m.\u001b[39morderID \u001b[38;5;241m+\u001b[39m\u001b[38;5;241m=\u001b[39m\u001b[38;5;241m1\u001b[39m\n\u001b[0;32m---> 38\u001b[0m \u001b[43morderClass\u001b[49m\u001b[38;5;241;43m.\u001b[39;49m\u001b[43mfilled_order\u001b[49m\u001b[43m(\u001b[49m\u001b[38;5;28;43mself\u001b[39;49m\u001b[43m)\u001b[49m\n",
      "File \u001b[0;32m~/Desktop/EDHEC MsC FENg/Master Project/orderClass.py:75\u001b[0m, in \u001b[0;36morders.filled_order\u001b[0;34m(self, trading_strat)\u001b[0m\n\u001b[1;32m     67\u001b[0m orderToCancel \u001b[38;5;241m=\u001b[39m []\n\u001b[1;32m     68\u001b[0m \u001b[38;5;28;01mif\u001b[39;00m (\n\u001b[1;32m     69\u001b[0m \n\u001b[1;32m     70\u001b[0m     (trading_strat\u001b[38;5;241m.\u001b[39morder_out[orderID][\u001b[38;5;28mself\u001b[39m\u001b[38;5;241m.\u001b[39morderIndex[\u001b[38;5;124m\"\u001b[39m\u001b[38;5;124mquantity\u001b[39m\u001b[38;5;124m\"\u001b[39m]] \u001b[38;5;241m<\u001b[39m \u001b[38;5;241m0\u001b[39m) \u001b[38;5;129;01mand\u001b[39;00m \n\u001b[1;32m     71\u001b[0m     (trading_strat\u001b[38;5;241m.\u001b[39morder_out[orderID][\u001b[38;5;28mself\u001b[39m\u001b[38;5;241m.\u001b[39morderIndex[\u001b[38;5;124m\"\u001b[39m\u001b[38;5;124mprice\u001b[39m\u001b[38;5;124m\"\u001b[39m] \u001b[38;5;241m<\u001b[39m\u001b[38;5;241m=\u001b[39m \u001b[38;5;28mself\u001b[39m\u001b[38;5;241m.\u001b[39mbids])\n\u001b[1;32m     72\u001b[0m     \n\u001b[1;32m     73\u001b[0m     ):\n\u001b[0;32m---> 75\u001b[0m     \u001b[43morint\u001b[49m(trading_strat\u001b[38;5;241m.\u001b[39morder_out[orderID][\u001b[38;5;28mself\u001b[39m\u001b[38;5;241m.\u001b[39morderIndex[\u001b[38;5;124m\"\u001b[39m\u001b[38;5;124mquantity\u001b[39m\u001b[38;5;124m\"\u001b[39m]] \u001b[38;5;241m<\u001b[39m \u001b[38;5;241m0\u001b[39m, trading_strat\u001b[38;5;241m.\u001b[39morder_out[orderID][\u001b[38;5;28mself\u001b[39m\u001b[38;5;241m.\u001b[39morderIndex[\u001b[38;5;124m\"\u001b[39m\u001b[38;5;124mprice\u001b[39m\u001b[38;5;124m\"\u001b[39m] \u001b[38;5;241m<\u001b[39m\u001b[38;5;241m=\u001b[39m \u001b[38;5;28mself\u001b[39m\u001b[38;5;241m.\u001b[39mbids],)\n\u001b[1;32m     76\u001b[0m     \u001b[38;5;66;03m# sell order filled\u001b[39;00m\n\u001b[1;32m     77\u001b[0m     trading_strat\u001b[38;5;241m.\u001b[39morder_out[orderID][\u001b[38;5;28mself\u001b[39m\u001b[38;5;241m.\u001b[39morderIndex[\u001b[38;5;124m\"\u001b[39m\u001b[38;5;124mexecutionTime\u001b[39m\u001b[38;5;124m\"\u001b[39m]] \u001b[38;5;241m=\u001b[39m \u001b[38;5;28mself\u001b[39m\u001b[38;5;241m.\u001b[39mtime\n",
      "\u001b[0;31mNameError\u001b[0m: name 'orint' is not defined"
     ]
    }
   ],
   "source": [
    "for _ in tqdm(range(len(dataClass.OBData_))):\n",
    "    orderClass = orders(dataClass.OBData_[dataClass.step])\n",
    "    autoTrader.strategy(orderClass)\n",
    "    dataClass.step +=1 \n",
    "    print(OBData.step)\n"
   ]
  },
  {
   "cell_type": "code",
   "execution_count": null,
   "metadata": {},
   "outputs": [
    {
     "ename": "AttributeError",
     "evalue": "type object 'OBData' has no attribute 'OBData_'",
     "output_type": "error",
     "traceback": [
      "\u001b[0;31m---------------------------------------------------------------------------\u001b[0m",
      "\u001b[0;31mAttributeError\u001b[0m                            Traceback (most recent call last)",
      "Cell \u001b[0;32mIn[4], line 1\u001b[0m\n\u001b[0;32m----> 1\u001b[0m OBData\u001b[39m.\u001b[39;49mOBData_\n",
      "\u001b[0;31mAttributeError\u001b[0m: type object 'OBData' has no attribute 'OBData_'"
     ]
    }
   ],
   "source": [
    "OBData.OBData_"
   ]
  },
  {
   "cell_type": "code",
   "execution_count": 4,
   "metadata": {},
   "outputs": [
    {
     "ename": "AttributeError",
     "evalue": "type object 'OBData' has no attribute 'OBIndex'",
     "output_type": "error",
     "traceback": [
      "\u001b[0;31m---------------------------------------------------------------------------\u001b[0m",
      "\u001b[0;31mAttributeError\u001b[0m                            Traceback (most recent call last)",
      "Cell \u001b[0;32mIn[4], line 1\u001b[0m\n\u001b[0;32m----> 1\u001b[0m orderClass \u001b[39m=\u001b[39m orders(dataClass\u001b[39m.\u001b[39;49mOBData_[\u001b[39m0\u001b[39;49m])\n\u001b[1;32m      2\u001b[0m orderClass\n",
      "File \u001b[0;32m~/Desktop/EDHEC MsC FENg/Master Project/orderClass.py:8\u001b[0m, in \u001b[0;36morders.__init__\u001b[0;34m(self, OBState)\u001b[0m\n\u001b[1;32m      7\u001b[0m \u001b[39mdef\u001b[39;00m \u001b[39m__init__\u001b[39m(\u001b[39mself\u001b[39m, OBState: \u001b[39mlist\u001b[39m):\n\u001b[0;32m----> 8\u001b[0m     \u001b[39mself\u001b[39m\u001b[39m.\u001b[39mtime \u001b[39m=\u001b[39m OBState[OBData\u001b[39m.\u001b[39;49mOBIndex[\u001b[39m\"\u001b[39m\u001b[39mtransactionTime\u001b[39m\u001b[39m\"\u001b[39m]]\n\u001b[1;32m      9\u001b[0m     \u001b[39mself\u001b[39m\u001b[39m.\u001b[39mbids \u001b[39m=\u001b[39m OBState[OBData\u001b[39m.\u001b[39mOBIndex[\u001b[39m\"\u001b[39m\u001b[39mbids\u001b[39m\u001b[39m\"\u001b[39m]]\n\u001b[1;32m     10\u001b[0m     \u001b[39mself\u001b[39m\u001b[39m.\u001b[39masks \u001b[39m=\u001b[39m OBState[OBData\u001b[39m.\u001b[39mOBIndex[\u001b[39m\"\u001b[39m\u001b[39masks\u001b[39m\u001b[39m\"\u001b[39m]]\n",
      "\u001b[0;31mAttributeError\u001b[0m: type object 'OBData' has no attribute 'OBIndex'"
     ]
    }
   ],
   "source": [
    "orderClass = orders(dataClass.OBData_[0])\n",
    "orderClass"
   ]
  },
  {
   "cell_type": "code",
   "execution_count": 37,
   "metadata": {},
   "outputs": [
    {
     "data": {
      "text/plain": [
       "1725148803813.0"
      ]
     },
     "execution_count": 37,
     "metadata": {},
     "output_type": "execute_result"
    }
   ],
   "source": [
    "dataClass.OBData_[0][dataClass.OBIndex[\"transactionTime\"]]"
   ]
  },
  {
   "cell_type": "code",
   "execution_count": 11,
   "metadata": {},
   "outputs": [
    {
     "data": {
      "text/plain": [
       "['bids', 'bids_v', 'asks', 'asks_v', 'transactionTime', 'eventTime']"
      ]
     },
     "execution_count": 11,
     "metadata": {},
     "output_type": "execute_result"
    }
   ],
   "source": [
    "columns=[col for col in dataClass.OBIndex.keys()]\n",
    "columns"
   ]
  },
  {
   "cell_type": "code",
   "execution_count": null,
   "metadata": {},
   "outputs": [],
   "source": []
  }
 ],
 "metadata": {
  "kernelspec": {
   "display_name": "Python 3",
   "language": "python",
   "name": "python3"
  },
  "language_info": {
   "codemirror_mode": {
    "name": "ipython",
    "version": 3
   },
   "file_extension": ".py",
   "mimetype": "text/x-python",
   "name": "python",
   "nbconvert_exporter": "python",
   "pygments_lexer": "ipython3",
   "version": "3.11.3"
  },
  "orig_nbformat": 4
 },
 "nbformat": 4,
 "nbformat_minor": 2
}
