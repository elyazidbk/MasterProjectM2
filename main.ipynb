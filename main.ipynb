{
 "cells": [
  {
   "cell_type": "code",
   "execution_count": 1,
   "metadata": {},
   "outputs": [],
   "source": [
    "import numpy as np\n",
    "import pandas as pd\n",
    "from tqdm import tqdm\n",
    "\n",
    "from backtesterClass.orderClass import orders\n",
    "from backtesterClass.orderBookClass import OBData\n",
    "from backtesterClass.analysisClass import analysisClass\n",
    "\n",
    "from strats.basicStrat import basicStrat\n",
    "from strats.movingAverageStrat import movingAverageStrat\n",
    "from strats.rsiStrat import rsiStrat\n",
    "from strats.momentumStrat import momentumStrat\n",
    "\n",
    "\n",
    "\n",
    "\n",
    "from cProfile import Profile\n",
    "from pstats import SortKey, Stats\n",
    "import gc"
   ]
  },
  {
   "cell_type": "code",
   "execution_count": 2,
   "metadata": {},
   "outputs": [],
   "source": [
    "# Improve computationnal performance of the backtester - increases garbage collector threshold\n",
    "\n",
    "allocs, gen1, gen2 = gc.get_threshold()\n",
    "allocs = 5000\n",
    "gen1 = gen1*2\n",
    "gen2=gen2*2\n",
    "gc.set_threshold(allocs, gen1,gen2)"
   ]
  },
  {
   "cell_type": "code",
   "execution_count": 3,
   "metadata": {},
   "outputs": [],
   "source": [
    "dataClass = OBData(pd.read_csv(r'/Users/leo/Downloads/BTCUSD_241227-bookTicker-2024-09-01.csv', sep=\",\"))"
   ]
  },
  {
   "cell_type": "code",
   "execution_count": 4,
   "metadata": {},
   "outputs": [],
   "source": [
    "autoTrader = basicStrat(\"autoTrader\")\n",
    "movingAverageTrader = movingAverageStrat(\"movingAverageTrader\", short_window = 1000, long_window=10000)\n",
    "rsiTrader = rsiStrat(\"rsiTrader\", window=1000, buyThreshold=30, sellThreshold=70, alpha=2)\n",
    "momentumTrader = momentumStrat(\"momentumTrader\", short_window=1000, long_window=10000, RSI_window=1000, sellThreshold=70,buyThreshold=40, alpha=2)"
   ]
  },
  {
   "cell_type": "code",
   "execution_count": 5,
   "metadata": {},
   "outputs": [],
   "source": [
    "# with Profile() as profile:\n",
    "    \n",
    "#     for _ in tqdm(range(len(dataClass.OBData_))):\n",
    "#     # for _ in tqdm(range(10000)):\n",
    "#         orderClass = orders(dataClass.OBData_[OBData.step])\n",
    "#         # autoTrader.strategy(orderClass)\n",
    "#         momentumTrader.strategy(orderClass)\n",
    "#         OBData.step +=1 \n",
    "\n",
    "# (Stats(profile)\n",
    "#     .strip_dirs()\n",
    "#     .sort_stats(SortKey.CALLS)\n",
    "#     .print_stats())"
   ]
  },
  {
   "cell_type": "code",
   "execution_count": 6,
   "metadata": {},
   "outputs": [
    {
     "name": "stderr",
     "output_type": "stream",
     "text": [
      "100%|██████████| 654359/654359 [00:09<00:00, 66546.04it/s]\n"
     ]
    }
   ],
   "source": [
    "for _ in tqdm(range(len(dataClass.OBData_))):\n",
    "    orderClass = orders(dataClass.OBData_[OBData.step])\n",
    "    # autoTrader.strategy(orderClass)\n",
    "    # movingAverageTrader.strategy(orderClass)\n",
    "    # rsiTrader.strategy(orderClass)\n",
    "    momentumTrader.strategy(orderClass)\n",
    "    OBData.step +=1 "
   ]
  },
  {
   "cell_type": "code",
   "execution_count": 7,
   "metadata": {},
   "outputs": [],
   "source": [
    "# analysisBasic = analysisClass(autoTrader, path=r\"/Users/leo/Desktop/EDHEC MsC FENg/Master Project/Results\", dashboardName=\"executionBasicStrat\", dbName=\"dbBasicStrat\")\n",
    "# analysisBasic.create_dashboard()\n",
    "# analysisBasic.dataBase()"
   ]
  },
  {
   "cell_type": "code",
   "execution_count": 8,
   "metadata": {},
   "outputs": [],
   "source": [
    "# analysisMA = analysisClass(movingAverageTrader, path=r\"/Users/leo/Desktop/EDHEC MsC FENg/Master Project/Results\", dashboardName=\"executionMovingAverageStrat\", dbName=\"dbMovingAverageStrat\")\n",
    "# analysisMA.create_dashboard()\n",
    "# analysisMA.dataBase()"
   ]
  },
  {
   "cell_type": "code",
   "execution_count": 9,
   "metadata": {},
   "outputs": [],
   "source": [
    "# analysisRSI = analysisClass(rsiTrader, path=r\"/Users/leo/Desktop/EDHEC MsC FENg/Master Project/Results\", dashboardName=\"executionRSIStrat\", dbName=\"dbRSIStrat\")\n",
    "# analysisRSI.create_dashboard()\n",
    "# analysisRSI.dataBase()\n"
   ]
  },
  {
   "cell_type": "code",
   "execution_count": 10,
   "metadata": {},
   "outputs": [
    {
     "name": "stderr",
     "output_type": "stream",
     "text": [
      "/Users/leo/Desktop/EDHEC MsC FENg/Master Project/SQLite_Manager/sqlManager.py:39: UserWarning:\n",
      "\n",
      "pandas only supports SQLAlchemy connectable (engine/connection) or database string URI or sqlite3 DBAPI2 connection. Other DBAPI2 objects are not tested. Please consider using SQLAlchemy.\n",
      "\n",
      "/Users/leo/Desktop/EDHEC MsC FENg/Master Project/SQLite_Manager/sqlManager.py:39: UserWarning:\n",
      "\n",
      "pandas only supports SQLAlchemy connectable (engine/connection) or database string URI or sqlite3 DBAPI2 connection. Other DBAPI2 objects are not tested. Please consider using SQLAlchemy.\n",
      "\n",
      "/Users/leo/Desktop/EDHEC MsC FENg/Master Project/SQLite_Manager/sqlManager.py:39: UserWarning:\n",
      "\n",
      "pandas only supports SQLAlchemy connectable (engine/connection) or database string URI or sqlite3 DBAPI2 connection. Other DBAPI2 objects are not tested. Please consider using SQLAlchemy.\n",
      "\n",
      "/Users/leo/Desktop/EDHEC MsC FENg/Master Project/SQLite_Manager/sqlManager.py:39: UserWarning:\n",
      "\n",
      "pandas only supports SQLAlchemy connectable (engine/connection) or database string URI or sqlite3 DBAPI2 connection. Other DBAPI2 objects are not tested. Please consider using SQLAlchemy.\n",
      "\n",
      "/Users/leo/Desktop/EDHEC MsC FENg/Master Project/SQLite_Manager/sqlManager.py:39: UserWarning:\n",
      "\n",
      "pandas only supports SQLAlchemy connectable (engine/connection) or database string URI or sqlite3 DBAPI2 connection. Other DBAPI2 objects are not tested. Please consider using SQLAlchemy.\n",
      "\n"
     ]
    }
   ],
   "source": [
    "analysisMomentum = analysisClass(momentumTrader, path=r\"/Users/leo/Desktop/EDHEC MsC FENg/Master Project/Results\", dashboardName=\"executionMomentumStrat\", dbName=\"dbMomentumStrat\")\n",
    "analysisMomentum.create_dashboard()\n",
    "analysisMomentum.dataBase()"
   ]
  },
  {
   "cell_type": "code",
   "execution_count": null,
   "metadata": {},
   "outputs": [],
   "source": []
  }
 ],
 "metadata": {
  "kernelspec": {
   "display_name": "Python 3",
   "language": "python",
   "name": "python3"
  },
  "language_info": {
   "codemirror_mode": {
    "name": "ipython",
    "version": 3
   },
   "file_extension": ".py",
   "mimetype": "text/x-python",
   "name": "python",
   "nbconvert_exporter": "python",
   "pygments_lexer": "ipython3",
   "version": "3.11.3"
  },
  "orig_nbformat": 4
 },
 "nbformat": 4,
 "nbformat_minor": 2
}
