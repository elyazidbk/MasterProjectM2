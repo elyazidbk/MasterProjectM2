{
 "cells": [
  {
   "cell_type": "code",
   "execution_count": null,
   "metadata": {},
   "outputs": [],
   "source": [
    "from backtesterClass.basicStrat import basicStrat\n",
    "from backtesterClass.orderClass import orders\n",
    "from backtesterClass.orderBookClass import OBData\n",
    "from backtesterClass.analysisClass import analysisClass\n",
    "import numpy as np\n",
    "import pandas as pd\n",
    "from tqdm import tqdm"
   ]
  },
  {
   "cell_type": "code",
   "execution_count": 2,
   "metadata": {},
   "outputs": [],
   "source": [
    "dataClass = OBData(pd.read_csv(r'/Users/leo/Downloads/BTCUSD_241227-bookTicker-2024-09-01.csv', sep=\",\"))"
   ]
  },
  {
   "cell_type": "code",
   "execution_count": 3,
   "metadata": {},
   "outputs": [],
   "source": [
    "autoTrader = basicStrat(\"autoTrader\")"
   ]
  },
  {
   "cell_type": "code",
   "execution_count": 4,
   "metadata": {},
   "outputs": [
    {
     "name": "stderr",
     "output_type": "stream",
     "text": [
      " 43%|████▎     | 281913/654359 [00:02<00:03, 94787.96it/s] 2025-01-26 14:14:52,233 - INFO - Step: 282980 - order price : 59000 - inventPrice : 60352.26666666666 - order qty: 1\n",
      "2025-01-26 14:14:52,233 - INFO - Step: 282980 - PnL Generated: 1352.2666666666628\n",
      "2025-01-26 14:14:52,235 - INFO - Step: 282980 - order price : 59000 - inventPrice : 60352.26666666666 - order qty: 1\n",
      "2025-01-26 14:14:52,235 - INFO - Step: 282980 - PnL Generated: 2704.5333333333256\n",
      "2025-01-26 14:14:52,237 - INFO - Step: 282980 - order price : 59000 - inventPrice : 60352.26666666666 - order qty: 1\n",
      "2025-01-26 14:14:52,239 - INFO - Step: 282980 - PnL Generated: 4056.7999999999884\n",
      "2025-01-26 14:14:52,240 - INFO - Step: 282980 - order price : 59000 - inventPrice : 60352.26666666666 - order qty: 1\n",
      "2025-01-26 14:14:52,241 - INFO - Step: 282980 - PnL Generated: 5409.066666666651\n",
      "2025-01-26 14:14:52,242 - INFO - Step: 282980 - order price : 59000 - inventPrice : 60352.26666666666 - order qty: 1\n",
      "2025-01-26 14:14:52,243 - INFO - Step: 282980 - PnL Generated: 6761.333333333314\n",
      "2025-01-26 14:14:52,244 - INFO - Step: 282980 - order price : 58988.9 - inventPrice : 60352.26666666666 - order qty: 1\n",
      "2025-01-26 14:14:52,246 - INFO - Step: 282980 - PnL Generated: 8124.699999999975\n",
      " 67%|██████▋   | 436451/654359 [00:05<00:02, 80439.70it/s]2025-01-26 14:14:54,293 - INFO - Step: 437156 - order price : 60000 - inventPrice : 58991.36666666667 - order qty: -1\n",
      "2025-01-26 14:14:54,296 - INFO - Step: 437156 - PnL Generated: 1008.6333333333314\n",
      "2025-01-26 14:14:54,298 - INFO - Step: 437156 - order price : 60000 - inventPrice : 58991.36666666667 - order qty: -1\n",
      "2025-01-26 14:14:54,299 - INFO - Step: 437156 - PnL Generated: 2017.2666666666628\n",
      "2025-01-26 14:14:54,301 - INFO - Step: 437156 - order price : 60000 - inventPrice : 58991.36666666667 - order qty: -1\n",
      "2025-01-26 14:14:54,303 - INFO - Step: 437156 - PnL Generated: 3025.899999999994\n",
      "2025-01-26 14:14:54,305 - INFO - Step: 437156 - order price : 60008.5 - inventPrice : 58991.36666666667 - order qty: -1\n",
      "2025-01-26 14:14:54,307 - INFO - Step: 437156 - PnL Generated: 4043.0333333333256\n",
      "2025-01-26 14:14:54,309 - INFO - Step: 437157 - order price : 60018.7 - inventPrice : 58991.36666666667 - order qty: -1\n",
      "2025-01-26 14:14:54,311 - INFO - Step: 437157 - PnL Generated: 1027.3333333333285\n",
      "2025-01-26 14:14:54,316 - INFO - Step: 437158 - order price : 60018.7 - inventPrice : 58991.36666666667 - order qty: -1\n",
      "2025-01-26 14:14:54,329 - INFO - Step: 437158 - PnL Generated: 1027.3333333333285\n",
      " 80%|████████  | 524935/654359 [00:06<00:01, 102422.22it/s]2025-01-26 14:14:55,457 - INFO - Step: 533413 - order price : 59000 - inventPrice : 60009.166666666664 - order qty: 1\n",
      "2025-01-26 14:14:55,458 - INFO - Step: 533413 - PnL Generated: 1009.1666666666642\n",
      "2025-01-26 14:14:55,459 - INFO - Step: 533413 - order price : 59000 - inventPrice : 60009.166666666664 - order qty: 1\n",
      "2025-01-26 14:14:55,460 - INFO - Step: 533413 - PnL Generated: 2018.3333333333285\n",
      "2025-01-26 14:14:55,462 - INFO - Step: 533413 - order price : 59000 - inventPrice : 60009.166666666664 - order qty: 1\n",
      "2025-01-26 14:14:55,464 - INFO - Step: 533413 - PnL Generated: 3027.4999999999927\n",
      "2025-01-26 14:14:55,466 - INFO - Step: 533413 - order price : 59000 - inventPrice : 60009.166666666664 - order qty: 1\n",
      "2025-01-26 14:14:55,467 - INFO - Step: 533413 - PnL Generated: 4036.666666666657\n",
      "2025-01-26 14:14:55,469 - INFO - Step: 533413 - order price : 59000 - inventPrice : 60009.166666666664 - order qty: 1\n",
      "2025-01-26 14:14:55,471 - INFO - Step: 533413 - PnL Generated: 5045.833333333321\n",
      "2025-01-26 14:14:55,472 - INFO - Step: 533413 - order price : 59000 - inventPrice : 60009.166666666664 - order qty: 1\n",
      "2025-01-26 14:14:55,473 - INFO - Step: 533413 - PnL Generated: 6054.999999999985\n",
      "100%|██████████| 654359/654359 [00:07<00:00, 89976.55it/s] \n"
     ]
    }
   ],
   "source": [
    "for _ in tqdm(range(len(dataClass.OBData_))):\n",
    "# for _ in tqdm(range(10000)):\n",
    "    orderClass = orders(dataClass.OBData_[OBData.step])\n",
    "    autoTrader.strategy(orderClass)\n",
    "    OBData.step +=1 \n",
    "\n"
   ]
  },
  {
   "cell_type": "code",
   "execution_count": null,
   "metadata": {},
   "outputs": [
    {
     "ename": "FileNotFoundError",
     "evalue": "[Errno 2] No such file or directory: '/Users/leo/Desktop/EDHEC MsC FENg/Master Project/Result/executionBasicStrat.html'",
     "output_type": "error",
     "traceback": [
      "\u001b[0;31m---------------------------------------------------------------------------\u001b[0m",
      "\u001b[0;31mFileNotFoundError\u001b[0m                         Traceback (most recent call last)",
      "Cell \u001b[0;32mIn[7], line 2\u001b[0m\n\u001b[1;32m      1\u001b[0m analysis \u001b[38;5;241m=\u001b[39m analysisClass(autoTrader, path\u001b[38;5;241m=\u001b[39m\u001b[38;5;124mr\u001b[39m\u001b[38;5;124m\"\u001b[39m\u001b[38;5;124m/Users/leo/Desktop/EDHEC MsC FENg/Master Project/Result\u001b[39m\u001b[38;5;124m\"\u001b[39m, dashboardName\u001b[38;5;241m=\u001b[39m\u001b[38;5;124m\"\u001b[39m\u001b[38;5;124mexecutionBasicStrat\u001b[39m\u001b[38;5;124m\"\u001b[39m, dbName\u001b[38;5;241m=\u001b[39m\u001b[38;5;124m\"\u001b[39m\u001b[38;5;124mdbBasicStrat\u001b[39m\u001b[38;5;124m\"\u001b[39m)\n\u001b[0;32m----> 2\u001b[0m \u001b[43manalysis\u001b[49m\u001b[38;5;241;43m.\u001b[39;49m\u001b[43mdashboard\u001b[49m\u001b[43m(\u001b[49m\u001b[43m)\u001b[49m\n\u001b[1;32m      3\u001b[0m analysis\u001b[38;5;241m.\u001b[39mdataBase()\n",
      "File \u001b[0;32m~/Desktop/EDHEC MsC FENg/Master Project/analysisClass.py:153\u001b[0m, in \u001b[0;36manalysisClass.dashboard\u001b[0;34m(self, save, show)\u001b[0m\n\u001b[1;32m    151\u001b[0m     fig\u001b[38;5;241m.\u001b[39mwrite_html(\u001b[38;5;124mf\u001b[39m\u001b[38;5;124m\"\u001b[39m\u001b[38;5;132;01m{\u001b[39;00m\u001b[38;5;28mself\u001b[39m\u001b[38;5;241m.\u001b[39mdashboardName\u001b[38;5;132;01m}\u001b[39;00m\u001b[38;5;124m.html\u001b[39m\u001b[38;5;124m\"\u001b[39m)\n\u001b[1;32m    152\u001b[0m \u001b[38;5;28;01melse\u001b[39;00m:\n\u001b[0;32m--> 153\u001b[0m     \u001b[43mfig\u001b[49m\u001b[38;5;241;43m.\u001b[39;49m\u001b[43mwrite_html\u001b[49m\u001b[43m(\u001b[49m\u001b[38;5;124;43mf\u001b[39;49m\u001b[38;5;124;43m\"\u001b[39;49m\u001b[38;5;132;43;01m{\u001b[39;49;00m\u001b[38;5;28;43mself\u001b[39;49m\u001b[38;5;241;43m.\u001b[39;49m\u001b[43mpath\u001b[49m\u001b[38;5;132;43;01m}\u001b[39;49;00m\u001b[38;5;124;43m/\u001b[39;49m\u001b[38;5;132;43;01m{\u001b[39;49;00m\u001b[38;5;28;43mself\u001b[39;49m\u001b[38;5;241;43m.\u001b[39;49m\u001b[43mdashboardName\u001b[49m\u001b[38;5;132;43;01m}\u001b[39;49;00m\u001b[38;5;124;43m.html\u001b[39;49m\u001b[38;5;124;43m\"\u001b[39;49m\u001b[43m)\u001b[49m\n",
      "File \u001b[0;32m/Library/Frameworks/Python.framework/Versions/3.11/lib/python3.11/site-packages/plotly/basedatatypes.py:3720\u001b[0m, in \u001b[0;36mBaseFigure.write_html\u001b[0;34m(self, *args, **kwargs)\u001b[0m\n\u001b[1;32m   3605\u001b[0m \u001b[38;5;250m\u001b[39m\u001b[38;5;124;03m\"\"\"\u001b[39;00m\n\u001b[1;32m   3606\u001b[0m \u001b[38;5;124;03mWrite a figure to an HTML file representation\u001b[39;00m\n\u001b[1;32m   3607\u001b[0m \n\u001b[0;32m   (...)\u001b[0m\n\u001b[1;32m   3716\u001b[0m \u001b[38;5;124;03m    Representation of figure as an HTML div string\u001b[39;00m\n\u001b[1;32m   3717\u001b[0m \u001b[38;5;124;03m\"\"\"\u001b[39;00m\n\u001b[1;32m   3718\u001b[0m \u001b[38;5;28;01mimport\u001b[39;00m \u001b[38;5;21;01mplotly\u001b[39;00m\u001b[38;5;21;01m.\u001b[39;00m\u001b[38;5;21;01mio\u001b[39;00m \u001b[38;5;28;01mas\u001b[39;00m \u001b[38;5;21;01mpio\u001b[39;00m\n\u001b[0;32m-> 3720\u001b[0m \u001b[38;5;28;01mreturn\u001b[39;00m \u001b[43mpio\u001b[49m\u001b[38;5;241;43m.\u001b[39;49m\u001b[43mwrite_html\u001b[49m\u001b[43m(\u001b[49m\u001b[38;5;28;43mself\u001b[39;49m\u001b[43m,\u001b[49m\u001b[43m \u001b[49m\u001b[38;5;241;43m*\u001b[39;49m\u001b[43margs\u001b[49m\u001b[43m,\u001b[49m\u001b[43m \u001b[49m\u001b[38;5;241;43m*\u001b[39;49m\u001b[38;5;241;43m*\u001b[39;49m\u001b[43mkwargs\u001b[49m\u001b[43m)\u001b[49m\n",
      "File \u001b[0;32m/Library/Frameworks/Python.framework/Versions/3.11/lib/python3.11/site-packages/plotly/io/_html.py:535\u001b[0m, in \u001b[0;36mwrite_html\u001b[0;34m(fig, file, config, auto_play, include_plotlyjs, include_mathjax, post_script, full_html, animation_opts, validate, default_width, default_height, auto_open, div_id)\u001b[0m\n\u001b[1;32m    532\u001b[0m \u001b[38;5;66;03m# Write HTML string\u001b[39;00m\n\u001b[1;32m    533\u001b[0m \u001b[38;5;28;01mif\u001b[39;00m path \u001b[38;5;129;01mis\u001b[39;00m \u001b[38;5;129;01mnot\u001b[39;00m \u001b[38;5;28;01mNone\u001b[39;00m:\n\u001b[1;32m    534\u001b[0m     \u001b[38;5;66;03m# To use a different file encoding, pass a file descriptor\u001b[39;00m\n\u001b[0;32m--> 535\u001b[0m     \u001b[43mpath\u001b[49m\u001b[38;5;241;43m.\u001b[39;49m\u001b[43mwrite_text\u001b[49m\u001b[43m(\u001b[49m\u001b[43mhtml_str\u001b[49m\u001b[43m,\u001b[49m\u001b[43m \u001b[49m\u001b[38;5;124;43m\"\u001b[39;49m\u001b[38;5;124;43mutf-8\u001b[39;49m\u001b[38;5;124;43m\"\u001b[39;49m\u001b[43m)\u001b[49m\n\u001b[1;32m    536\u001b[0m \u001b[38;5;28;01melse\u001b[39;00m:\n\u001b[1;32m    537\u001b[0m     file\u001b[38;5;241m.\u001b[39mwrite(html_str)\n",
      "File \u001b[0;32m/Library/Frameworks/Python.framework/Versions/3.11/lib/python3.11/pathlib.py:1078\u001b[0m, in \u001b[0;36mPath.write_text\u001b[0;34m(self, data, encoding, errors, newline)\u001b[0m\n\u001b[1;32m   1075\u001b[0m     \u001b[38;5;28;01mraise\u001b[39;00m \u001b[38;5;167;01mTypeError\u001b[39;00m(\u001b[38;5;124m'\u001b[39m\u001b[38;5;124mdata must be str, not \u001b[39m\u001b[38;5;132;01m%s\u001b[39;00m\u001b[38;5;124m'\u001b[39m \u001b[38;5;241m%\u001b[39m\n\u001b[1;32m   1076\u001b[0m                     data\u001b[38;5;241m.\u001b[39m\u001b[38;5;18m__class__\u001b[39m\u001b[38;5;241m.\u001b[39m\u001b[38;5;18m__name__\u001b[39m)\n\u001b[1;32m   1077\u001b[0m encoding \u001b[38;5;241m=\u001b[39m io\u001b[38;5;241m.\u001b[39mtext_encoding(encoding)\n\u001b[0;32m-> 1078\u001b[0m \u001b[38;5;28;01mwith\u001b[39;00m \u001b[38;5;28;43mself\u001b[39;49m\u001b[38;5;241;43m.\u001b[39;49m\u001b[43mopen\u001b[49m\u001b[43m(\u001b[49m\u001b[43mmode\u001b[49m\u001b[38;5;241;43m=\u001b[39;49m\u001b[38;5;124;43m'\u001b[39;49m\u001b[38;5;124;43mw\u001b[39;49m\u001b[38;5;124;43m'\u001b[39;49m\u001b[43m,\u001b[49m\u001b[43m \u001b[49m\u001b[43mencoding\u001b[49m\u001b[38;5;241;43m=\u001b[39;49m\u001b[43mencoding\u001b[49m\u001b[43m,\u001b[49m\u001b[43m \u001b[49m\u001b[43merrors\u001b[49m\u001b[38;5;241;43m=\u001b[39;49m\u001b[43merrors\u001b[49m\u001b[43m,\u001b[49m\u001b[43m \u001b[49m\u001b[43mnewline\u001b[49m\u001b[38;5;241;43m=\u001b[39;49m\u001b[43mnewline\u001b[49m\u001b[43m)\u001b[49m \u001b[38;5;28;01mas\u001b[39;00m f:\n\u001b[1;32m   1079\u001b[0m     \u001b[38;5;28;01mreturn\u001b[39;00m f\u001b[38;5;241m.\u001b[39mwrite(data)\n",
      "File \u001b[0;32m/Library/Frameworks/Python.framework/Versions/3.11/lib/python3.11/pathlib.py:1044\u001b[0m, in \u001b[0;36mPath.open\u001b[0;34m(self, mode, buffering, encoding, errors, newline)\u001b[0m\n\u001b[1;32m   1042\u001b[0m \u001b[38;5;28;01mif\u001b[39;00m \u001b[38;5;124m\"\u001b[39m\u001b[38;5;124mb\u001b[39m\u001b[38;5;124m\"\u001b[39m \u001b[38;5;129;01mnot\u001b[39;00m \u001b[38;5;129;01min\u001b[39;00m mode:\n\u001b[1;32m   1043\u001b[0m     encoding \u001b[38;5;241m=\u001b[39m io\u001b[38;5;241m.\u001b[39mtext_encoding(encoding)\n\u001b[0;32m-> 1044\u001b[0m \u001b[38;5;28;01mreturn\u001b[39;00m \u001b[43mio\u001b[49m\u001b[38;5;241;43m.\u001b[39;49m\u001b[43mopen\u001b[49m\u001b[43m(\u001b[49m\u001b[38;5;28;43mself\u001b[39;49m\u001b[43m,\u001b[49m\u001b[43m \u001b[49m\u001b[43mmode\u001b[49m\u001b[43m,\u001b[49m\u001b[43m \u001b[49m\u001b[43mbuffering\u001b[49m\u001b[43m,\u001b[49m\u001b[43m \u001b[49m\u001b[43mencoding\u001b[49m\u001b[43m,\u001b[49m\u001b[43m \u001b[49m\u001b[43merrors\u001b[49m\u001b[43m,\u001b[49m\u001b[43m \u001b[49m\u001b[43mnewline\u001b[49m\u001b[43m)\u001b[49m\n",
      "\u001b[0;31mFileNotFoundError\u001b[0m: [Errno 2] No such file or directory: '/Users/leo/Desktop/EDHEC MsC FENg/Master Project/Result/executionBasicStrat.html'"
     ]
    }
   ],
   "source": [
    "analysis = analysisClass(autoTrader, path=r\"/Users/leo/Desktop/EDHEC MsC FENg/Master Project/Results\", dashboardName=\"executionBasicStrat\", dbName=\"dbBasicStrat\")\n",
    "analysis.dashboard()\n",
    "analysis.dataBase()"
   ]
  },
  {
   "cell_type": "code",
   "execution_count": null,
   "metadata": {},
   "outputs": [],
   "source": []
  }
 ],
 "metadata": {
  "kernelspec": {
   "display_name": "Python 3",
   "language": "python",
   "name": "python3"
  },
  "language_info": {
   "codemirror_mode": {
    "name": "ipython",
    "version": 3
   },
   "file_extension": ".py",
   "mimetype": "text/x-python",
   "name": "python",
   "nbconvert_exporter": "python",
   "pygments_lexer": "ipython3",
   "version": "3.11.3"
  },
  "orig_nbformat": 4
 },
 "nbformat": 4,
 "nbformat_minor": 2
}
