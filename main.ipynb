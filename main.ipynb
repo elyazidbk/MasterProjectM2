{
 "cells": [
  {
   "cell_type": "code",
   "execution_count": 1,
   "metadata": {},
   "outputs": [],
   "source": [
    "from tradingStratClass import trading_strat, basicStrat\n",
    "from orderClass import orders\n",
    "from orderBookClass import OBData\n",
    "from analysisClass import analysisClass\n",
    "import numpy as np\n",
    "import pandas as pd\n",
    "from tqdm import tqdm"
   ]
  },
  {
   "cell_type": "code",
   "execution_count": 2,
   "metadata": {},
   "outputs": [],
   "source": [
    "dataClass = OBData(pd.read_csv(r'/Users/leo/Downloads/BTCUSD_241227-bookTicker-2024-09-01.csv', sep=\",\"))"
   ]
  },
  {
   "cell_type": "code",
   "execution_count": 3,
   "metadata": {},
   "outputs": [],
   "source": [
    "autoTrader = basicStrat(\"autoTrader\")"
   ]
  },
  {
   "cell_type": "code",
   "execution_count": 4,
   "metadata": {},
   "outputs": [
    {
     "name": "stderr",
     "output_type": "stream",
     "text": [
      " 43%|████▎     | 282101/654359 [00:03<00:03, 101348.18it/s]2025-01-26 10:52:40,257 - INFO - Step: 282980 - order price : 59000 - inventPrice : 60352.26666666666 - order qty: 1\n",
      "2025-01-26 10:52:40,258 - INFO - Step: 282980 - PnL Generated: 1352.2666666666628\n",
      "2025-01-26 10:52:40,260 - INFO - Step: 282980 - order price : 59000 - inventPrice : 60352.26666666666 - order qty: 1\n",
      "2025-01-26 10:52:40,261 - INFO - Step: 282980 - PnL Generated: 2704.5333333333256\n",
      "2025-01-26 10:52:40,262 - INFO - Step: 282980 - order price : 59000 - inventPrice : 60352.26666666666 - order qty: 1\n",
      "2025-01-26 10:52:40,263 - INFO - Step: 282980 - PnL Generated: 4056.7999999999884\n",
      "2025-01-26 10:52:40,264 - INFO - Step: 282980 - order price : 59000 - inventPrice : 60352.26666666666 - order qty: 1\n",
      "2025-01-26 10:52:40,265 - INFO - Step: 282980 - PnL Generated: 5409.066666666651\n",
      "2025-01-26 10:52:40,267 - INFO - Step: 282980 - order price : 59000 - inventPrice : 60352.26666666666 - order qty: 1\n",
      "2025-01-26 10:52:40,268 - INFO - Step: 282980 - PnL Generated: 6761.333333333314\n",
      "2025-01-26 10:52:40,268 - INFO - Step: 282980 - order price : 58988.9 - inventPrice : 60352.26666666666 - order qty: 1\n",
      "2025-01-26 10:52:40,270 - INFO - Step: 282980 - PnL Generated: 8124.699999999975\n",
      " 66%|██████▋   | 434523/654359 [00:04<00:02, 99742.45it/s] 2025-01-26 10:52:41,885 - INFO - Step: 437156 - order price : 60000 - inventPrice : 58991.36666666667 - order qty: -1\n",
      "2025-01-26 10:52:41,886 - INFO - Step: 437156 - PnL Generated: 1008.6333333333314\n",
      "2025-01-26 10:52:41,887 - INFO - Step: 437156 - order price : 60000 - inventPrice : 58991.36666666667 - order qty: -1\n",
      "2025-01-26 10:52:41,887 - INFO - Step: 437156 - PnL Generated: 2017.2666666666628\n",
      "2025-01-26 10:52:41,888 - INFO - Step: 437156 - order price : 60000 - inventPrice : 58991.36666666667 - order qty: -1\n",
      "2025-01-26 10:52:41,889 - INFO - Step: 437156 - PnL Generated: 3025.899999999994\n",
      "2025-01-26 10:52:41,892 - INFO - Step: 437156 - order price : 60008.5 - inventPrice : 58991.36666666667 - order qty: -1\n",
      "2025-01-26 10:52:41,892 - INFO - Step: 437156 - PnL Generated: 4043.0333333333256\n",
      "2025-01-26 10:52:41,894 - INFO - Step: 437157 - order price : 60018.7 - inventPrice : 58991.36666666667 - order qty: -1\n",
      "2025-01-26 10:52:41,896 - INFO - Step: 437157 - PnL Generated: 1027.3333333333285\n",
      "2025-01-26 10:52:41,897 - INFO - Step: 437158 - order price : 60018.7 - inventPrice : 58991.36666666667 - order qty: -1\n",
      "2025-01-26 10:52:41,899 - INFO - Step: 437158 - PnL Generated: 1027.3333333333285\n",
      " 81%|████████  | 529383/654359 [00:05<00:01, 101387.67it/s]2025-01-26 10:52:42,845 - INFO - Step: 533413 - order price : 59000 - inventPrice : 60009.166666666664 - order qty: 1\n",
      "2025-01-26 10:52:42,846 - INFO - Step: 533413 - PnL Generated: 1009.1666666666642\n",
      "2025-01-26 10:52:42,846 - INFO - Step: 533413 - order price : 59000 - inventPrice : 60009.166666666664 - order qty: 1\n",
      "2025-01-26 10:52:42,847 - INFO - Step: 533413 - PnL Generated: 2018.3333333333285\n",
      "2025-01-26 10:52:42,848 - INFO - Step: 533413 - order price : 59000 - inventPrice : 60009.166666666664 - order qty: 1\n",
      "2025-01-26 10:52:42,849 - INFO - Step: 533413 - PnL Generated: 3027.4999999999927\n",
      "2025-01-26 10:52:42,850 - INFO - Step: 533413 - order price : 59000 - inventPrice : 60009.166666666664 - order qty: 1\n",
      "2025-01-26 10:52:42,852 - INFO - Step: 533413 - PnL Generated: 4036.666666666657\n",
      "2025-01-26 10:52:42,853 - INFO - Step: 533413 - order price : 59000 - inventPrice : 60009.166666666664 - order qty: 1\n",
      "2025-01-26 10:52:42,854 - INFO - Step: 533413 - PnL Generated: 5045.833333333321\n",
      "2025-01-26 10:52:42,855 - INFO - Step: 533413 - order price : 59000 - inventPrice : 60009.166666666664 - order qty: 1\n",
      "2025-01-26 10:52:42,857 - INFO - Step: 533413 - PnL Generated: 6054.999999999985\n",
      "100%|██████████| 654359/654359 [00:06<00:00, 93581.52it/s] \n"
     ]
    }
   ],
   "source": [
    "for _ in tqdm(range(len(dataClass.OBData_))):\n",
    "# for _ in tqdm(range(10000)):\n",
    "    orderClass = orders(dataClass.OBData_[OBData.step])\n",
    "    autoTrader.strategy(orderClass)\n",
    "    OBData.step +=1 \n",
    "\n"
   ]
  },
  {
   "cell_type": "code",
   "execution_count": 5,
   "metadata": {},
   "outputs": [],
   "source": [
    "analysisClass(autoTrader).dashboard()"
   ]
  },
  {
   "cell_type": "code",
   "execution_count": null,
   "metadata": {},
   "outputs": [],
   "source": []
  }
 ],
 "metadata": {
  "kernelspec": {
   "display_name": "Python 3",
   "language": "python",
   "name": "python3"
  },
  "language_info": {
   "codemirror_mode": {
    "name": "ipython",
    "version": 3
   },
   "file_extension": ".py",
   "mimetype": "text/x-python",
   "name": "python",
   "nbconvert_exporter": "python",
   "pygments_lexer": "ipython3",
   "version": "3.11.3"
  },
  "orig_nbformat": 4
 },
 "nbformat": 4,
 "nbformat_minor": 2
}
