{
 "cells": [
  {
   "cell_type": "code",
   "execution_count": 1,
   "metadata": {},
   "outputs": [],
   "source": [
    "from basicStrat import basicStrat\n",
    "from orderClass import orders\n",
    "from orderBookClass import OBData\n",
    "from analysisClass import analysisClass\n",
    "import numpy as np\n",
    "import pandas as pd\n",
    "from tqdm import tqdm"
   ]
  },
  {
   "cell_type": "code",
   "execution_count": 2,
   "metadata": {},
   "outputs": [],
   "source": [
    "dataClass = OBData(pd.read_csv(r'/Users/leo/Downloads/BTCUSD_241227-bookTicker-2024-09-01.csv', sep=\",\"))"
   ]
  },
  {
   "cell_type": "code",
   "execution_count": 3,
   "metadata": {},
   "outputs": [],
   "source": [
    "autoTrader = basicStrat(\"autoTrader\")"
   ]
  },
  {
   "cell_type": "code",
   "execution_count": 4,
   "metadata": {},
   "outputs": [
    {
     "name": "stderr",
     "output_type": "stream",
     "text": [
      " 43%|████▎     | 279996/654359 [00:03<00:03, 102713.10it/s]2025-01-26 11:32:08,602 - INFO - Step: 282980 - order price : 59000 - inventPrice : 60352.26666666666 - order qty: 1\n",
      "2025-01-26 11:32:08,602 - INFO - Step: 282980 - PnL Generated: 1352.2666666666628\n",
      "2025-01-26 11:32:08,603 - INFO - Step: 282980 - order price : 59000 - inventPrice : 60352.26666666666 - order qty: 1\n",
      "2025-01-26 11:32:08,604 - INFO - Step: 282980 - PnL Generated: 2704.5333333333256\n",
      "2025-01-26 11:32:08,605 - INFO - Step: 282980 - order price : 59000 - inventPrice : 60352.26666666666 - order qty: 1\n",
      "2025-01-26 11:32:08,606 - INFO - Step: 282980 - PnL Generated: 4056.7999999999884\n",
      "2025-01-26 11:32:08,608 - INFO - Step: 282980 - order price : 59000 - inventPrice : 60352.26666666666 - order qty: 1\n",
      "2025-01-26 11:32:08,608 - INFO - Step: 282980 - PnL Generated: 5409.066666666651\n",
      "2025-01-26 11:32:08,610 - INFO - Step: 282980 - order price : 59000 - inventPrice : 60352.26666666666 - order qty: 1\n",
      "2025-01-26 11:32:08,612 - INFO - Step: 282980 - PnL Generated: 6761.333333333314\n",
      "2025-01-26 11:32:08,613 - INFO - Step: 282980 - order price : 58988.9 - inventPrice : 60352.26666666666 - order qty: 1\n",
      "2025-01-26 11:32:08,615 - INFO - Step: 282980 - PnL Generated: 8124.699999999975\n",
      " 66%|██████▌   | 428861/654359 [00:04<00:02, 84341.54it/s] 2025-01-26 11:32:10,255 - INFO - Step: 437156 - order price : 60000 - inventPrice : 58991.36666666667 - order qty: -1\n",
      "2025-01-26 11:32:10,255 - INFO - Step: 437156 - PnL Generated: 1008.6333333333314\n",
      "2025-01-26 11:32:10,256 - INFO - Step: 437156 - order price : 60000 - inventPrice : 58991.36666666667 - order qty: -1\n",
      "2025-01-26 11:32:10,258 - INFO - Step: 437156 - PnL Generated: 2017.2666666666628\n",
      "2025-01-26 11:32:10,259 - INFO - Step: 437156 - order price : 60000 - inventPrice : 58991.36666666667 - order qty: -1\n",
      "2025-01-26 11:32:10,260 - INFO - Step: 437156 - PnL Generated: 3025.899999999994\n",
      "2025-01-26 11:32:10,263 - INFO - Step: 437156 - order price : 60008.5 - inventPrice : 58991.36666666667 - order qty: -1\n",
      "2025-01-26 11:32:10,263 - INFO - Step: 437156 - PnL Generated: 4043.0333333333256\n",
      "2025-01-26 11:32:10,265 - INFO - Step: 437157 - order price : 60018.7 - inventPrice : 58991.36666666667 - order qty: -1\n",
      "2025-01-26 11:32:10,268 - INFO - Step: 437157 - PnL Generated: 1027.3333333333285\n",
      "2025-01-26 11:32:10,270 - INFO - Step: 437158 - order price : 60018.7 - inventPrice : 58991.36666666667 - order qty: -1\n",
      "2025-01-26 11:32:10,271 - INFO - Step: 437158 - PnL Generated: 1027.3333333333285\n",
      " 80%|███████▉  | 523220/654359 [00:05<00:01, 97791.49it/s]2025-01-26 11:32:11,409 - INFO - Step: 533413 - order price : 59000 - inventPrice : 60009.166666666664 - order qty: 1\n",
      "2025-01-26 11:32:11,410 - INFO - Step: 533413 - PnL Generated: 1009.1666666666642\n",
      "2025-01-26 11:32:11,412 - INFO - Step: 533413 - order price : 59000 - inventPrice : 60009.166666666664 - order qty: 1\n",
      "2025-01-26 11:32:11,413 - INFO - Step: 533413 - PnL Generated: 2018.3333333333285\n",
      "2025-01-26 11:32:11,414 - INFO - Step: 533413 - order price : 59000 - inventPrice : 60009.166666666664 - order qty: 1\n",
      "2025-01-26 11:32:11,415 - INFO - Step: 533413 - PnL Generated: 3027.4999999999927\n",
      "2025-01-26 11:32:11,416 - INFO - Step: 533413 - order price : 59000 - inventPrice : 60009.166666666664 - order qty: 1\n",
      "2025-01-26 11:32:11,417 - INFO - Step: 533413 - PnL Generated: 4036.666666666657\n",
      "2025-01-26 11:32:11,418 - INFO - Step: 533413 - order price : 59000 - inventPrice : 60009.166666666664 - order qty: 1\n",
      "2025-01-26 11:32:11,419 - INFO - Step: 533413 - PnL Generated: 5045.833333333321\n",
      "2025-01-26 11:32:11,420 - INFO - Step: 533413 - order price : 59000 - inventPrice : 60009.166666666664 - order qty: 1\n",
      "2025-01-26 11:32:11,421 - INFO - Step: 533413 - PnL Generated: 6054.999999999985\n",
      "100%|██████████| 654359/654359 [00:07<00:00, 89664.16it/s]\n"
     ]
    }
   ],
   "source": [
    "for _ in tqdm(range(len(dataClass.OBData_))):\n",
    "# for _ in tqdm(range(10000)):\n",
    "    orderClass = orders(dataClass.OBData_[OBData.step])\n",
    "    autoTrader.strategy(orderClass)\n",
    "    OBData.step +=1 \n",
    "\n"
   ]
  },
  {
   "cell_type": "code",
   "execution_count": 5,
   "metadata": {},
   "outputs": [],
   "source": [
    "analysisClass(autoTrader).dashboard()"
   ]
  },
  {
   "cell_type": "code",
   "execution_count": null,
   "metadata": {},
   "outputs": [],
   "source": []
  }
 ],
 "metadata": {
  "kernelspec": {
   "display_name": "Python 3",
   "language": "python",
   "name": "python3"
  },
  "language_info": {
   "codemirror_mode": {
    "name": "ipython",
    "version": 3
   },
   "file_extension": ".py",
   "mimetype": "text/x-python",
   "name": "python",
   "nbconvert_exporter": "python",
   "pygments_lexer": "ipython3",
   "version": "3.11.3"
  },
  "orig_nbformat": 4
 },
 "nbformat": 4,
 "nbformat_minor": 2
}
