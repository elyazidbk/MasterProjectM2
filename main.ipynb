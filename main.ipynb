{
 "cells": [
  {
   "cell_type": "code",
   "execution_count": 1,
   "metadata": {},
   "outputs": [],
   "source": [
    "from basicStrat import basicStrat\n",
    "from orderClass import orders\n",
    "from orderBookClass import OBData\n",
    "from analysisClass import analysisClass\n",
    "import numpy as np\n",
    "import pandas as pd\n",
    "from tqdm import tqdm"
   ]
  },
  {
   "cell_type": "code",
   "execution_count": 2,
   "metadata": {},
   "outputs": [],
   "source": [
    "dataClass = OBData(pd.read_csv(r'/Users/leo/Downloads/BTCUSD_241227-bookTicker-2024-09-01.csv', sep=\",\"))"
   ]
  },
  {
   "cell_type": "code",
   "execution_count": 3,
   "metadata": {},
   "outputs": [],
   "source": [
    "autoTrader = basicStrat(\"autoTrader\")"
   ]
  },
  {
   "cell_type": "code",
   "execution_count": 4,
   "metadata": {},
   "outputs": [
    {
     "name": "stderr",
     "output_type": "stream",
     "text": [
      " 43%|████▎     | 281913/654359 [00:02<00:03, 94787.96it/s] 2025-01-26 14:14:52,233 - INFO - Step: 282980 - order price : 59000 - inventPrice : 60352.26666666666 - order qty: 1\n",
      "2025-01-26 14:14:52,233 - INFO - Step: 282980 - PnL Generated: 1352.2666666666628\n",
      "2025-01-26 14:14:52,235 - INFO - Step: 282980 - order price : 59000 - inventPrice : 60352.26666666666 - order qty: 1\n",
      "2025-01-26 14:14:52,235 - INFO - Step: 282980 - PnL Generated: 2704.5333333333256\n",
      "2025-01-26 14:14:52,237 - INFO - Step: 282980 - order price : 59000 - inventPrice : 60352.26666666666 - order qty: 1\n",
      "2025-01-26 14:14:52,239 - INFO - Step: 282980 - PnL Generated: 4056.7999999999884\n",
      "2025-01-26 14:14:52,240 - INFO - Step: 282980 - order price : 59000 - inventPrice : 60352.26666666666 - order qty: 1\n",
      "2025-01-26 14:14:52,241 - INFO - Step: 282980 - PnL Generated: 5409.066666666651\n",
      "2025-01-26 14:14:52,242 - INFO - Step: 282980 - order price : 59000 - inventPrice : 60352.26666666666 - order qty: 1\n",
      "2025-01-26 14:14:52,243 - INFO - Step: 282980 - PnL Generated: 6761.333333333314\n",
      "2025-01-26 14:14:52,244 - INFO - Step: 282980 - order price : 58988.9 - inventPrice : 60352.26666666666 - order qty: 1\n",
      "2025-01-26 14:14:52,246 - INFO - Step: 282980 - PnL Generated: 8124.699999999975\n",
      " 67%|██████▋   | 436451/654359 [00:05<00:02, 80439.70it/s]2025-01-26 14:14:54,293 - INFO - Step: 437156 - order price : 60000 - inventPrice : 58991.36666666667 - order qty: -1\n",
      "2025-01-26 14:14:54,296 - INFO - Step: 437156 - PnL Generated: 1008.6333333333314\n",
      "2025-01-26 14:14:54,298 - INFO - Step: 437156 - order price : 60000 - inventPrice : 58991.36666666667 - order qty: -1\n",
      "2025-01-26 14:14:54,299 - INFO - Step: 437156 - PnL Generated: 2017.2666666666628\n",
      "2025-01-26 14:14:54,301 - INFO - Step: 437156 - order price : 60000 - inventPrice : 58991.36666666667 - order qty: -1\n",
      "2025-01-26 14:14:54,303 - INFO - Step: 437156 - PnL Generated: 3025.899999999994\n",
      "2025-01-26 14:14:54,305 - INFO - Step: 437156 - order price : 60008.5 - inventPrice : 58991.36666666667 - order qty: -1\n",
      "2025-01-26 14:14:54,307 - INFO - Step: 437156 - PnL Generated: 4043.0333333333256\n",
      "2025-01-26 14:14:54,309 - INFO - Step: 437157 - order price : 60018.7 - inventPrice : 58991.36666666667 - order qty: -1\n",
      "2025-01-26 14:14:54,311 - INFO - Step: 437157 - PnL Generated: 1027.3333333333285\n",
      "2025-01-26 14:14:54,316 - INFO - Step: 437158 - order price : 60018.7 - inventPrice : 58991.36666666667 - order qty: -1\n",
      "2025-01-26 14:14:54,329 - INFO - Step: 437158 - PnL Generated: 1027.3333333333285\n",
      " 80%|████████  | 524935/654359 [00:06<00:01, 102422.22it/s]2025-01-26 14:14:55,457 - INFO - Step: 533413 - order price : 59000 - inventPrice : 60009.166666666664 - order qty: 1\n",
      "2025-01-26 14:14:55,458 - INFO - Step: 533413 - PnL Generated: 1009.1666666666642\n",
      "2025-01-26 14:14:55,459 - INFO - Step: 533413 - order price : 59000 - inventPrice : 60009.166666666664 - order qty: 1\n",
      "2025-01-26 14:14:55,460 - INFO - Step: 533413 - PnL Generated: 2018.3333333333285\n",
      "2025-01-26 14:14:55,462 - INFO - Step: 533413 - order price : 59000 - inventPrice : 60009.166666666664 - order qty: 1\n",
      "2025-01-26 14:14:55,464 - INFO - Step: 533413 - PnL Generated: 3027.4999999999927\n",
      "2025-01-26 14:14:55,466 - INFO - Step: 533413 - order price : 59000 - inventPrice : 60009.166666666664 - order qty: 1\n",
      "2025-01-26 14:14:55,467 - INFO - Step: 533413 - PnL Generated: 4036.666666666657\n",
      "2025-01-26 14:14:55,469 - INFO - Step: 533413 - order price : 59000 - inventPrice : 60009.166666666664 - order qty: 1\n",
      "2025-01-26 14:14:55,471 - INFO - Step: 533413 - PnL Generated: 5045.833333333321\n",
      "2025-01-26 14:14:55,472 - INFO - Step: 533413 - order price : 59000 - inventPrice : 60009.166666666664 - order qty: 1\n",
      "2025-01-26 14:14:55,473 - INFO - Step: 533413 - PnL Generated: 6054.999999999985\n",
      "100%|██████████| 654359/654359 [00:07<00:00, 89976.55it/s] \n"
     ]
    }
   ],
   "source": [
    "for _ in tqdm(range(len(dataClass.OBData_))):\n",
    "# for _ in tqdm(range(10000)):\n",
    "    orderClass = orders(dataClass.OBData_[OBData.step])\n",
    "    autoTrader.strategy(orderClass)\n",
    "    OBData.step +=1 \n",
    "\n"
   ]
  },
  {
   "cell_type": "code",
   "execution_count": 6,
   "metadata": {},
   "outputs": [
    {
     "name": "stderr",
     "output_type": "stream",
     "text": [
      "/Users/leo/Desktop/EDHEC MsC FENg/Master Project/SQLite_Manager/sqlManager.py:39: UserWarning:\n",
      "\n",
      "pandas only supports SQLAlchemy connectable (engine/connection) or database string URI or sqlite3 DBAPI2 connection. Other DBAPI2 objects are not tested. Please consider using SQLAlchemy.\n",
      "\n",
      "/Users/leo/Desktop/EDHEC MsC FENg/Master Project/SQLite_Manager/sqlManager.py:39: UserWarning:\n",
      "\n",
      "pandas only supports SQLAlchemy connectable (engine/connection) or database string URI or sqlite3 DBAPI2 connection. Other DBAPI2 objects are not tested. Please consider using SQLAlchemy.\n",
      "\n",
      "/Users/leo/Desktop/EDHEC MsC FENg/Master Project/SQLite_Manager/sqlManager.py:39: UserWarning:\n",
      "\n",
      "pandas only supports SQLAlchemy connectable (engine/connection) or database string URI or sqlite3 DBAPI2 connection. Other DBAPI2 objects are not tested. Please consider using SQLAlchemy.\n",
      "\n",
      "/Users/leo/Desktop/EDHEC MsC FENg/Master Project/SQLite_Manager/sqlManager.py:39: UserWarning:\n",
      "\n",
      "pandas only supports SQLAlchemy connectable (engine/connection) or database string URI or sqlite3 DBAPI2 connection. Other DBAPI2 objects are not tested. Please consider using SQLAlchemy.\n",
      "\n"
     ]
    }
   ],
   "source": [
    "analysis = analysisClass(autoTrader, path=r\"/Users/leo/Desktop/EDHEC MsC FENg/Master Project/Results\", dashboardName=\"executionBasicStrat\", dbName=\"dbBasicStrat\")\n",
    "analysis.dashboard()\n",
    "analysis.dataBase()"
   ]
  },
  {
   "cell_type": "code",
   "execution_count": null,
   "metadata": {},
   "outputs": [],
   "source": []
  }
 ],
 "metadata": {
  "kernelspec": {
   "display_name": "Python 3",
   "language": "python",
   "name": "python3"
  },
  "language_info": {
   "codemirror_mode": {
    "name": "ipython",
    "version": 3
   },
   "file_extension": ".py",
   "mimetype": "text/x-python",
   "name": "python",
   "nbconvert_exporter": "python",
   "pygments_lexer": "ipython3",
   "version": "3.11.3"
  },
  "orig_nbformat": 4
 },
 "nbformat": 4,
 "nbformat_minor": 2
}
