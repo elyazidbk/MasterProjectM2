{
 "cells": [
  {
   "cell_type": "code",
   "execution_count": null,
   "id": "acbde8d3",
   "metadata": {},
   "outputs": [],
   "source": [
    "import os, sys\n",
    "target = \"BacktesterOHLCV\"\n",
    "while os.path.basename(os.getcwd()) != target:\n",
    "    os.chdir(\"..\")\n",
    "if os.getcwd() not in sys.path:\n",
    "    sys.path.insert(0, os.getcwd())"
   ]
  },
  {
   "cell_type": "code",
   "execution_count": null,
   "id": "fbde9051",
   "metadata": {},
   "outputs": [],
   "source": [
    "from engine.dataClass import OHLCVDataLoader\n",
    "from engine.feature_preprocessing import generate_flat_ml_dataframe\n",
    "from strats.MAstrat import MAStrat\n",
    "from strats.RSIStrat import RSIStrat\n",
    "from engine.analysis_test import AssetTradeAnalysis\n",
    "#from ANNStrat import ANNStrat\n",
    "from strats.MomentumStratV2 import MomentumStratV2\n",
    "from engine.backtester import OHLCVBacktester\n",
    "from engine.analysis import OHLCVAnalysis\n",
    "import os"
   ]
  },
  {
   "cell_type": "code",
   "execution_count": null,
   "id": "bfa54b08",
   "metadata": {},
   "outputs": [],
   "source": [
    "# 1. Load and clean data\n",
    "folder_path = \"data/stock_market_data/sp500/csv\"\n",
    "SP500Path = \"data/SP500Historical.csv\"\n",
    "data = OHLCVDataLoader.load_all_data(folder_path, clean=True, years=20,sp500_path=SP500Path)"
   ]
  },
  {
   "cell_type": "markdown",
   "id": "2ca035fb",
   "metadata": {},
   "source": [
    "## Instiatiate strategies"
   ]
  },
  {
   "cell_type": "code",
   "execution_count": null,
   "id": "266515b4",
   "metadata": {},
   "outputs": [],
   "source": [
    "#2. Instiatiate strategies\n",
    "ma1 = MAStrat(name=\"MA 1 (Short-term)\", short_window=5, long_window=20) # Short-term setup\n",
    "ma2 = MAStrat(name=\"MA 2 (Balanced)\", short_window=15, long_window=45) # Balanced crossover\n",
    "ma3 = MAStrat(name=\"MA 3 (Medium-term Swing)\", short_window=10, long_window=50) # Medium-term (Swing trading)\n",
    "ma4 = MAStrat(name=\"MA 4 (Medium-term Trend)\", short_window=20, long_window=100) # Medium-term (trend following)\n",
    "ma5 = MAStrat(name=\"MA 5 (Long-term)\", short_window=50, long_window=200) # Long-term setup\n",
    "\n",
    "rsi1 = RSIStrat(name=\"RSI 1 (Wilder's default)\", rsi_window=14, sellThreshold=70, buyThreshold=30, alpha=1 ) \n",
    "rsi2 = RSIStrat(name=\"RSI 2 (Aggressive)\", rsi_window=10, sellThreshold=75, buyThreshold=25, alpha=2)\n",
    "\n",
    "hybrid1 = MomentumStratV2(name=\"Hybrid 1\", short_window=10, long_window=50, rsi_window=14, sellThreshold=70, buyThreshold=30, alpha=1) # Classing swing + smooth RSI\n",
    "hybrid2 = MomentumStratV2(name=\"Hybrid 2\", short_window=20, long_window=100, rsi_window=10, sellThreshold=75, buyThreshold=25, alpha=2) # Medium-term + reactive RSI\n",
    "hybrid3 = MomentumStratV2(name=\"Hybrid 3\", short_window=15, long_window=45, rsi_window=14, sellThreshold=60, buyThreshold=40, alpha=1) # Balanced MA + tight RSI"
   ]
  },
  {
   "cell_type": "markdown",
   "id": "8432f385",
   "metadata": {},
   "source": [
    "## Backtesting"
   ]
  },
  {
   "cell_type": "code",
   "execution_count": null,
   "id": "1524c7b3",
   "metadata": {},
   "outputs": [],
   "source": [
    "#3. Run backtest\n",
    "backtest_ma1 = OHLCVBacktester(data, ma1, fee_perc=0.0005)\n",
    "backtest_ma2 = OHLCVBacktester(data, ma2, fee_perc=0.0005)\n",
    "backtest_ma3 = OHLCVBacktester(data, ma3, fee_perc=0.0005)\n",
    "backtest_ma4 = OHLCVBacktester(data, ma4, fee_perc=0.0005)\n",
    "backtest_ma5 = OHLCVBacktester(data, ma5, fee_perc=0.0005)\n",
    "\n",
    "backtest_rsi1 = OHLCVBacktester(data, rsi1, fee_perc=0.0005)\n",
    "backtest_rsi2 = OHLCVBacktester(data, rsi2, fee_perc=0.0005)\n",
    "\n",
    "backtest_hybrid1 = OHLCVBacktester(data, hybrid1, fee_perc=0.0005)\n",
    "backtest_hybrid2 = OHLCVBacktester(data, hybrid2, fee_perc=0.0005)\n",
    "backtest_hybrid3 = OHLCVBacktester(data, hybrid3, fee_perc=0.0005)\n"
   ]
  },
  {
   "cell_type": "code",
   "execution_count": null,
   "id": "e187e635",
   "metadata": {},
   "outputs": [],
   "source": [
    "states_ma1, portfolio_ma1 = backtest_ma1.run()\n",
    "states_ma2, portfolio_ma2 = backtest_ma2.run()\n",
    "states_ma3, portfolio_ma3 = backtest_ma3.run()\n",
    "states_ma4, portfolio_ma4 = backtest_ma4.run()\n",
    "states_ma5, portfolio_ma5 = backtest_ma5.run()"
   ]
  },
  {
   "cell_type": "code",
   "execution_count": null,
   "id": "0071945b",
   "metadata": {},
   "outputs": [],
   "source": [
    "states_rsi1, portfolio_rsi1 = backtest_rsi1.run()\n",
    "states_rsi2, portfolio_rsi2 = backtest_rsi2.run()"
   ]
  },
  {
   "cell_type": "code",
   "execution_count": null,
   "id": "1996cffb",
   "metadata": {},
   "outputs": [],
   "source": [
    "states_hybrid1, portfolio_hybrid1 = backtest_hybrid1.run()\n",
    "states_hybrid2, portfolio_hybrid2 = backtest_hybrid2.run()\n",
    "states_hybrid3, portfolio_hybrid3 = backtest_hybrid3.run()"
   ]
  },
  {
   "cell_type": "code",
   "execution_count": null,
   "id": "8b1cea54",
   "metadata": {},
   "outputs": [],
   "source": []
  },
  {
   "cell_type": "code",
   "execution_count": null,
   "id": "1cc40775",
   "metadata": {},
   "outputs": [],
   "source": [
    "#4. Analysis\n",
    "\n",
    "analysis_ma1 = OHLCVAnalysis(states_ma1, portfolio_ma1, data, strategy= ma1)\n",
    "analysis_ma2 = OHLCVAnalysis(states_ma2, portfolio_ma2, data, strategy= ma2)\n",
    "analysis_ma3 = OHLCVAnalysis(states_ma3, portfolio_ma3, data, strategy= ma3)\n",
    "analysis_ma4 = OHLCVAnalysis(states_ma4, portfolio_ma4, data, strategy= ma4)\n",
    "analysis_ma5 = OHLCVAnalysis(states_ma5, portfolio_ma5, data, strategy= ma5)\n",
    "\n",
    "analysis_rsi1 = OHLCVAnalysis(states_rsi1, portfolio_rsi1, data, strategy= rsi1)\n",
    "analysis_rsi2 = OHLCVAnalysis(states_rsi2, portfolio_rsi2, data, strategy= rsi2)\n",
    "\n",
    "analysis_hybrid1 = OHLCVAnalysis(states_hybrid1, portfolio_hybrid1, data, strategy= hybrid1)\n",
    "analysis_hybrid2 = OHLCVAnalysis(states_hybrid2, portfolio_hybrid2, data, strategy= hybrid2)\n",
    "analysis_hybrid3 = OHLCVAnalysis(states_hybrid3, portfolio_hybrid3, data, strategy= hybrid3)"
   ]
  },
  {
   "cell_type": "markdown",
   "id": "f0196c1b",
   "metadata": {},
   "source": [
    "chaque asset\n",
    "Pnl pour chaque strat\n"
   ]
  },
  {
   "cell_type": "code",
   "execution_count": null,
   "id": "2036099f",
   "metadata": {},
   "outputs": [],
   "source": [
    "analysis_new_hybrid2 = AssetTradeAnalysis(states_hybrid2, data, strategy= hybrid2)\n",
    "analysis_new_hybrid2.plot_asset_trades('DXCM')\n",
    "analysis_new_hybrid2.plot_asset_pnl_with_trades('DXCM')\n",
    "analysis_new_hybrid2.plot_asset_position('DXCM')\n"
   ]
  },
  {
   "cell_type": "code",
   "execution_count": null,
   "id": "9d4900d8",
   "metadata": {},
   "outputs": [],
   "source": [
    "analysis_ma1.print_portfolio_metrics(full=True)\n",
    "analysis_ma2.print_portfolio_metrics(full=True)\n",
    "analysis_ma3.print_portfolio_metrics(full=True)\n",
    "analysis_ma4.print_portfolio_metrics(full=True)\n",
    "analysis_ma5.print_portfolio_metrics(full=True)\n",
    "\n",
    "analysis_rsi1.print_portfolio_metrics(full=True)\n",
    "analysis_rsi2.print_portfolio_metrics(full=True)\n",
    "\n",
    "analysis_hybrid1.print_portfolio_metrics(full=True)\n",
    "analysis_hybrid2.print_portfolio_metrics(full=True)\n",
    "analysis_hybrid3.print_portfolio_metrics(full=True)"
   ]
  },
  {
   "cell_type": "code",
   "execution_count": null,
   "id": "5e7c167d",
   "metadata": {},
   "outputs": [],
   "source": [
    "OHLCVAnalysis.plot_multiple_portfolio_pnl([analysis_ma1,analysis_ma2,analysis_ma3,analysis_ma4,analysis_ma5,analysis_rsi1,analysis_rsi2,analysis_hybrid1,analysis_hybrid2,analysis_hybrid3])"
   ]
  },
  {
   "cell_type": "code",
   "execution_count": null,
   "id": "27dda33e",
   "metadata": {},
   "outputs": [],
   "source": [
    "OHLCVAnalysis.plot_multiple_portfolio_pnl([analysis_ma1,analysis_ma2,analysis_ma3,analysis_ma4,analysis_ma5])\n",
    "OHLCVAnalysis.plot_multiple_portfolio_pnl([analysis_rsi1,analysis_rsi2])\n",
    "OHLCVAnalysis.plot_multiple_portfolio_pnl([analysis_hybrid1,analysis_hybrid2,analysis_hybrid3]) "
   ]
  },
  {
   "cell_type": "markdown",
   "id": "81ff15d0",
   "metadata": {},
   "source": [
    "Best strategy is hybrid 2 with the following parameters : \n",
    "short MA = 20\n",
    "long MA = 100\n",
    "RSI window = 10\n",
    "RSI BuyThreshold = 25\n",
    "RSI SellThreshold = 75\n",
    "alpha = 2\n",
    "\n",
    "short_window=20, long_window=100, rsi_window=10, sellThreshold=75, buyThreshold=25, alpha=2"
   ]
  },
  {
   "cell_type": "code",
   "execution_count": null,
   "id": "98c50130",
   "metadata": {},
   "outputs": [],
   "source": [
    "analysis_hybrid2.plot_asset_pnl_with_trades('DXCM')\n",
    "analysis_hybrid2.plot_asset_trades('DXCM')\n",
    "analysis_hybrid2.plot_average_position_size()\n"
   ]
  },
  {
   "cell_type": "markdown",
   "id": "bd82a853",
   "metadata": {},
   "source": [
    "## ML"
   ]
  },
  {
   "cell_type": "code",
   "execution_count": null,
   "id": "2b18254f",
   "metadata": {},
   "outputs": [],
   "source": [
    "from ANNStrat import ANNStrat"
   ]
  },
  {
   "cell_type": "code",
   "execution_count": null,
   "id": "4802eb5d",
   "metadata": {},
   "outputs": [],
   "source": [
    "asset_list = sorted({c.split('_')[0] for c in data.columns if c.endswith(\"_Adjusted Close\")})\n",
    "features_df = generate_flat_ml_dataframe(data, asset_list=asset_list, hybrid_strategy=hybrid2)\n",
    "\n",
    "# Check the percentage of 0 signals in features_df\n",
    "zero_signals_percentage = (features_df['signal'].value_counts().get(0, 0) / len(features_df)) * 100\n",
    "print(f\"Percentage of 0 signals: {zero_signals_percentage:.10f}%\")"
   ]
  },
  {
   "cell_type": "code",
   "execution_count": null,
   "id": "24434185",
   "metadata": {},
   "outputs": [],
   "source": [
    "selected_features = ['return', 'log_return', 'volume_zscore', 'short_ma', 'long_ma', 'ma_diff', 'rsi']\n",
    "# Define and train the strategy\n",
    "ANN_strategy = ANNStrat(name=\"ANN_Hybrid\",features=selected_features)\n",
    "\n",
    "# Step 2: Load the labeled data\n",
    "ANN_strategy.load_data(features_df)\n",
    "\n",
    "# Step 3: Train the neural network\n",
    "ANN_strategy.train_model()"
   ]
  },
  {
   "cell_type": "code",
   "execution_count": null,
   "id": "085b3f2d",
   "metadata": {},
   "outputs": [],
   "source": [
    "backtest_ANN = OHLCVBacktester(data, ANN_strategy)\n",
    "asset_states_ann, equity_curve_ann = backtest_ANN.run()"
   ]
  },
  {
   "cell_type": "code",
   "execution_count": null,
   "id": "bff9a2de",
   "metadata": {},
   "outputs": [],
   "source": [
    "analysis_ann = OHLCVAnalysis(asset_states_ann, equity_curve_ann, data, strategy=ANN_strategy)\n",
    "analysis_ann.print_portfolio_metrics(full=True)\n",
    "OHLCVAnalysis.plot_multiple_portfolio_pnl([analysis_ann,analysis_hybrid2])"
   ]
  },
  {
   "cell_type": "code",
   "execution_count": null,
   "id": "0de73cea",
   "metadata": {},
   "outputs": [],
   "source": []
  },
  {
   "cell_type": "code",
   "execution_count": null,
   "id": "149e68e7",
   "metadata": {},
   "outputs": [],
   "source": [
    "selected_features = ['Adjusted Close', 'Previous Close', 'volume_zscore', 'short_ma', 'long_ma', 'ma_diff', 'rsi']\n",
    "# Define and train the strategy\n",
    "ANN2_strategy = ANNStrat(name=\"ANN2_Hybrid\",features=selected_features)\n",
    "\n",
    "# Step 2: Load the labeled data\n",
    "ANN2_strategy.load_data(features_df)\n",
    "\n",
    "# Step 3: Train the neural network\n",
    "ANN2_strategy.train_model()"
   ]
  },
  {
   "cell_type": "code",
   "execution_count": null,
   "id": "80b4e635",
   "metadata": {},
   "outputs": [],
   "source": [
    "backtest_ANN2 = OHLCVBacktester(data, ANN2_strategy)\n",
    "asset_states_ann2, equity_curve_ann2 = backtest_ANN2.run()"
   ]
  },
  {
   "cell_type": "code",
   "execution_count": null,
   "id": "9d1c772a",
   "metadata": {},
   "outputs": [],
   "source": [
    "analysis_ann2 = OHLCVAnalysis(asset_states_ann2, equity_curve_ann2, data, strategy=ANN2_strategy)\n",
    "analysis_ann2.print_portfolio_metrics(full=True)\n"
   ]
  },
  {
   "cell_type": "code",
   "execution_count": null,
   "id": "c6c130a3",
   "metadata": {},
   "outputs": [],
   "source": [
    "OHLCVAnalysis.plot_multiple_portfolio_pnl([analysis_ann2,analysis_hybrid2])"
   ]
  }
 ],
 "metadata": {
  "kernelspec": {
   "display_name": "amp_ml",
   "language": "python",
   "name": "python3"
  },
  "language_info": {
   "codemirror_mode": {
    "name": "ipython",
    "version": 3
   },
   "file_extension": ".py",
   "mimetype": "text/x-python",
   "name": "python",
   "nbconvert_exporter": "python",
   "pygments_lexer": "ipython3",
   "version": "3.10.13"
  }
 },
 "nbformat": 4,
 "nbformat_minor": 5
}
