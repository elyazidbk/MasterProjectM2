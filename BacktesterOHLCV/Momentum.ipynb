{
 "cells": [
  {
   "cell_type": "code",
   "execution_count": 6,
   "id": "fbde9051",
   "metadata": {},
   "outputs": [],
   "source": [
    "from ohlcv_data import OHLCVDataLoader\n",
    "from momentumStrat import MomentumStratOHLCV\n",
    "from MAstrat import MAStrat\n",
    "from RSIStrat import RSIStrat\n",
    "from ohlcv_backtester import OHLCVBacktester\n",
    "from ohlcv_analysis import OHLCVAnalysis\n",
    "import os"
   ]
  },
  {
   "cell_type": "code",
   "execution_count": 7,
   "id": "bfa54b08",
   "metadata": {},
   "outputs": [
    {
     "name": "stderr",
     "output_type": "stream",
     "text": [
      "2025-04-21 13:20:44,488 - INFO - Loaded and combined data from 403 files. Final shape: (4442, 2418)\n"
     ]
    }
   ],
   "source": [
    "# 1. Load and clean data\n",
    "folder_path = \"/Users/elyazidbenkhadra/Downloads/stock_market_data/sp500/csv\"\n",
    "data = OHLCVDataLoader.load_all_data(folder_path, clean=True, years=20)"
   ]
  },
  {
   "cell_type": "code",
   "execution_count": 12,
   "id": "9b339b77",
   "metadata": {},
   "outputs": [],
   "source": [
    "# 2. Instantiate strategy\n",
    "movingaverage = MAStrat(name=\"Moving Average\", short_window=50, long_window=200)\n",
    "RSI = RSIStrat(name=\"RSI\")\n",
    "hybrid = MomentumStratOHLCV(name=\"Momentum Hybrid\", short_window =50, long_window=200)"
   ]
  },
  {
   "cell_type": "code",
   "execution_count": 13,
   "id": "b9d0b3da",
   "metadata": {},
   "outputs": [
    {
     "name": "stdout",
     "output_type": "stream",
     "text": [
      "\n",
      "=== Running backtest for strategy: Moving Average ===\n"
     ]
    },
    {
     "name": "stderr",
     "output_type": "stream",
     "text": [
      "2025-04-21 13:22:03,133 - INFO - Backtest complete. Trades: [27, 14, 26, 16, 17, 21, 25, 24, 26, 26, 25, 25, 31, 30, 28, 30, 21, 28, 27, 24, 26, 14, 8, 24, 22, 21, 43, 23, 22, 15, 31, 22, 25, 27, 23, 28, 26, 22, 29, 22, 28, 23, 29, 24, 30, 30, 32, 32, 31, 5, 31, 22, 26, 26, 29, 39, 26, 10, 33, 27, 28, 22, 29, 27, 25, 23, 30, 24, 24, 23, 18, 24, 32, 14, 26, 36, 32, 28, 17, 19, 34, 22, 12, 18, 25, 26, 20, 33, 23, 10, 25, 26, 24, 27, 8, 24, 20, 36, 30, 29, 20, 19, 27, 31, 24, 18, 22, 22, 30, 33, 18, 32, 23, 24, 26, 30, 20, 32, 24, 24, 25, 29, 25, 20, 20, 34, 28, 22, 20, 28, 15, 28, 14, 34, 20, 22, 26, 22, 19, 28, 26, 16, 12, 23, 21, 4, 18, 6, 22, 27, 17, 27, 37, 27, 33, 24, 25, 26, 14, 18, 29, 23, 26, 33, 18, 19, 17, 25, 15, 8, 34, 29, 14, 16, 35, 20, 26, 26, 23, 27, 25, 20, 28, 27, 30, 24, 0, 18, 24, 28, 9, 40, 33, 21, 23, 20, 26, 21, 18, 28, 22, 25, 31, 5, 20, 7, 4, 18, 22, 36, 24, 22, 36, 32, 20, 37, 34, 28, 25, 31, 16, 24, 33, 24, 28, 29, 18, 20, 20, 18, 27, 25, 25, 28, 30, 24, 31, 20, 22, 18, 28, 27, 26, 25, 30, 26, 17, 8, 21, 21, 20, 21, 29, 22, 14, 4, 25, 24, 26, 23, 20, 19, 8, 9, 32, 29, 14, 12, 23, 24, 20, 16, 12, 26, 22, 14, 16, 30, 21, 22, 39, 17, 21, 26, 33, 30, 27, 26, 38, 39, 32, 32, 30, 28, 36, 22, 26, 11, 22, 36, 21, 30, 23, 25, 12, 26, 25, 24, 27, 27, 22, 14, 31, 34, 33, 28, 25, 29, 22, 21, 24, 2, 19, 17, 29, 24, 4, 18, 24, 29, 20, 26, 28, 25, 16, 26, 19, 23, 22, 23, 22, 24, 13, 16, 26, 20, 2, 26, 2, 29, 18, 19, 6, 26, 23, 23, 22, 24, 4, 17, 24, 25, 20, 8, 33, 20, 18, 24, 13, 27, 20, 28, 23, 30, 18, 22, 33, 20, 24, 22, 32, 34, 30, 24, 28, 26, 29, 26, 21, 8, 4, 18, 30, 26, 19, 28, 8, 23, 25, 25, 22, 22, 18]\n"
     ]
    },
    {
     "name": "stdout",
     "output_type": "stream",
     "text": [
      "\n",
      "=== Running backtest for strategy: RSI ===\n"
     ]
    },
    {
     "name": "stderr",
     "output_type": "stream",
     "text": [
      "2025-04-21 13:22:12,065 - INFO - Backtest complete. Trades: [96, 112, 99, 108, 62, 90, 104, 102, 112, 112, 108, 104, 100, 106, 96, 111, 102, 120, 117, 95, 111, 58, 36, 116, 108, 108, 121, 90, 108, 54, 106, 109, 113, 102, 100, 110, 110, 107, 105, 88, 107, 106, 102, 103, 111, 104, 116, 92, 109, 5, 108, 110, 114, 96, 102, 116, 86, 143, 96, 98, 99, 103, 128, 100, 112, 102, 122, 104, 108, 113, 54, 100, 119, 70, 88, 120, 102, 105, 120, 121, 108, 116, 112, 108, 113, 101, 60, 101, 104, 54, 118, 117, 116, 94, 39, 105, 118, 107, 98, 102, 90, 83, 112, 100, 95, 105, 110, 94, 99, 120, 103, 107, 110, 105, 99, 114, 102, 108, 113, 100, 114, 100, 93, 106, 87, 110, 97, 111, 111, 113, 63, 122, 65, 98, 114, 106, 110, 102, 116, 107, 106, 72, 128, 96, 90, 25, 76, 26, 108, 94, 110, 97, 116, 106, 108, 84, 104, 111, 104, 68, 106, 111, 103, 95, 85, 90, 108, 105, 65, 62, 98, 100, 50, 100, 114, 100, 96, 116, 106, 101, 117, 98, 102, 108, 102, 101, 9, 107, 102, 106, 36, 120, 100, 100, 110, 88, 106, 106, 95, 116, 120, 118, 98, 8, 95, 52, 22, 48, 94, 102, 106, 116, 99, 111, 116, 102, 101, 96, 98, 90, 103, 90, 102, 104, 106, 110, 74, 101, 98, 120, 100, 118, 99, 102, 106, 109, 107, 106, 100, 86, 100, 104, 104, 102, 104, 105, 59, 130, 112, 105, 68, 92, 106, 100, 74, 38, 107, 102, 84, 92, 106, 70, 40, 99, 108, 115, 66, 104, 91, 108, 107, 33, 49, 116, 98, 56, 105, 106, 94, 94, 112, 100, 99, 102, 106, 118, 112, 112, 100, 102, 96, 96, 104, 98, 90, 114, 114, 76, 108, 109, 71, 118, 110, 95, 54, 108, 110, 104, 104, 100, 101, 85, 98, 126, 112, 124, 92, 107, 116, 92, 108, 65, 70, 78, 96, 108, 100, 92, 101, 115, 99, 100, 92, 82, 96, 96, 50, 106, 106, 132, 95, 90, 52, 118, 112, 124, 51, 94, 7, 94, 100, 97, 142, 94, 108, 102, 111, 119, 22, 58, 90, 110, 92, 52, 122, 105, 87, 102, 96, 109, 106, 118, 108, 102, 78, 107, 96, 80, 96, 108, 116, 112, 114, 97, 96, 104, 102, 106, 102, 42, 70, 85, 94, 104, 110, 90, 43, 91, 68, 108, 98, 97, 56]\n"
     ]
    },
    {
     "name": "stdout",
     "output_type": "stream",
     "text": [
      "\n",
      "=== Running backtest for strategy: Momentum Hybrid ===\n"
     ]
    },
    {
     "name": "stderr",
     "output_type": "stream",
     "text": [
      "2025-04-21 13:22:21,409 - INFO - Backtest complete. Trades: [28, 16, 24, 16, 16, 18, 26, 26, 26, 22, 23, 27, 26, 30, 28, 27, 21, 30, 27, 26, 24, 12, 8, 24, 18, 20, 37, 20, 22, 14, 28, 20, 25, 24, 24, 26, 22, 20, 27, 18, 26, 23, 26, 24, 30, 30, 28, 22, 27, 3, 26, 24, 26, 26, 24, 32, 26, 32, 30, 26, 30, 20, 27, 29, 26, 20, 30, 24, 26, 23, 18, 24, 31, 14, 24, 28, 28, 28, 17, 21, 32, 22, 26, 20, 25, 28, 18, 27, 25, 12, 26, 26, 24, 23, 7, 24, 20, 31, 28, 26, 20, 15, 28, 30, 26, 18, 20, 22, 29, 26, 19, 24, 20, 24, 26, 28, 20, 32, 22, 24, 22, 24, 27, 22, 20, 28, 26, 18, 19, 26, 15, 26, 14, 30, 18, 22, 26, 20, 18, 24, 26, 16, 16, 18, 19, 4, 16, 10, 24, 27, 19, 29, 34, 24, 29, 22, 23, 28, 14, 16, 31, 25, 28, 27, 18, 16, 18, 25, 15, 8, 32, 28, 14, 16, 35, 22, 26, 24, 25, 29, 25, 22, 28, 27, 28, 24, 5, 20, 22, 28, 8, 36, 32, 23, 22, 22, 26, 20, 19, 28, 22, 22, 33, 3, 20, 7, 8, 14, 20, 30, 24, 22, 28, 32, 18, 28, 32, 24, 25, 28, 18, 24, 28, 24, 26, 24, 18, 18, 20, 18, 25, 26, 25, 28, 28, 24, 27, 22, 22, 18, 28, 26, 26, 25, 30, 25, 17, 27, 21, 19, 18, 18, 29, 24, 14, 16, 23, 24, 20, 22, 20, 17, 6, 11, 28, 29, 14, 26, 25, 26, 20, 15, 12, 28, 20, 12, 16, 30, 20, 24, 32, 17, 23, 28, 25, 28, 25, 28, 34, 28, 32, 28, 30, 28, 32, 22, 26, 18, 24, 34, 21, 30, 23, 27, 14, 24, 24, 26, 26, 26, 24, 15, 27, 32, 28, 28, 24, 23, 24, 20, 23, 14, 22, 18, 26, 26, 16, 18, 24, 27, 20, 26, 28, 25, 16, 26, 16, 24, 22, 23, 24, 24, 12, 18, 24, 20, 8, 22, 2, 24, 20, 19, 24, 24, 20, 24, 24, 24, 4, 16, 26, 24, 20, 8, 28, 22, 24, 26, 13, 29, 22, 28, 22, 28, 18, 20, 32, 20, 22, 18, 28, 32, 22, 24, 28, 26, 29, 24, 21, 10, 16, 18, 26, 26, 18, 28, 21, 25, 23, 22, 24, 20, 16]\n"
     ]
    }
   ],
   "source": [
    "# 3. Run backtest (multi-asset)\n",
    "backtester_ma = OHLCVBacktester(data, movingaverage, fee_perc=0.0005)\n",
    "backtester_rsi = OHLCVBacktester(data, RSI, fee_perc=0.0005)\n",
    "backtester_hybrid = OHLCVBacktester(data, hybrid, fee_perc=0.0005)\n",
    "asset_states1, portfolio_equity_curve1 = backtester_ma.run()\n",
    "asset_states2, portfolio_equity_curve2 = backtester_rsi.run()\n",
    "asset_states3, portfolio_equity_curve3 = backtester_hybrid.run()"
   ]
  },
  {
   "cell_type": "code",
   "execution_count": 16,
   "id": "2e56c1bf",
   "metadata": {},
   "outputs": [
    {
     "name": "stdout",
     "output_type": "stream",
     "text": [
      "\n",
      "Portfolio metrics for strategy: Moving Average\n",
      "  Number of assets: 403\n",
      "  Average Asset PnL: 4712.97\n",
      "  Variance of Asset PnL: 71950221.01\n",
      "  Sharpe Ratio: 0.62\n",
      "  Max Drawdown: -26.24%\n",
      "  Total Return: 189.93%\n",
      "\n",
      "Portfolio metrics for strategy: RSI\n",
      "  Number of assets: 403\n",
      "  Average Asset PnL: 4853.66\n",
      "  Variance of Asset PnL: 41329005.07\n",
      "  Sharpe Ratio: 0.55\n",
      "  Max Drawdown: -33.33%\n",
      "  Total Return: 195.60%\n",
      "\n",
      "Portfolio metrics for strategy: Momentum Hybrid\n",
      "  Number of assets: 403\n",
      "  Average Asset PnL: 5416.40\n",
      "  Variance of Asset PnL: 75536916.67\n",
      "  Sharpe Ratio: 0.61\n",
      "  Max Drawdown: -28.87%\n",
      "  Total Return: 218.28%\n"
     ]
    },
    {
     "ename": "AttributeError",
     "evalue": "type object 'OHLCVAnalysis' has no attribute 'plot_multiple_portfolio_pnl'",
     "output_type": "error",
     "traceback": [
      "\u001b[0;31m---------------------------------------------------------------------------\u001b[0m",
      "\u001b[0;31mAttributeError\u001b[0m                            Traceback (most recent call last)",
      "Cell \u001b[0;32mIn[16], line 10\u001b[0m\n\u001b[1;32m      7\u001b[0m analysis3\u001b[38;5;241m.\u001b[39mprint_portfolio_metrics(full\u001b[38;5;241m=\u001b[39m\u001b[38;5;28;01mTrue\u001b[39;00m)\n\u001b[1;32m      9\u001b[0m \u001b[38;5;66;03m# Plot portfolio PnL\u001b[39;00m\n\u001b[0;32m---> 10\u001b[0m OHLCVAnalysis\u001b[38;5;241m.\u001b[39mplot_multiple_portfolio_pnl(\n\u001b[1;32m     11\u001b[0m     [\n\u001b[1;32m     12\u001b[0m         (portfolio_equity_curve1, movingaverage),\n\u001b[1;32m     13\u001b[0m         (portfolio_equity_curve2, RSI),\n\u001b[1;32m     14\u001b[0m         (portfolio_equity_curve3, hybrid)\n\u001b[1;32m     15\u001b[0m     ],\n\u001b[1;32m     16\u001b[0m     data\n\u001b[1;32m     17\u001b[0m )\n\u001b[1;32m     19\u001b[0m \u001b[38;5;66;03m# Plot portfolio cash and equity allocation\u001b[39;00m\n\u001b[1;32m     20\u001b[0m analysis1\u001b[38;5;241m.\u001b[39mplot_portfolio_allocations()\n",
      "\u001b[0;31mAttributeError\u001b[0m: type object 'OHLCVAnalysis' has no attribute 'plot_multiple_portfolio_pnl'"
     ]
    }
   ],
   "source": [
    "# 4. Analyze and visualize (multi-asset, portfolio focus)\n",
    "analysis1 = OHLCVAnalysis(asset_states1, portfolio_equity_curve1, data, strategy= movingaverage)\n",
    "analysis2 = OHLCVAnalysis(asset_states2, portfolio_equity_curve2, data,strategy= RSI)\n",
    "analysis3 = OHLCVAnalysis(asset_states3, portfolio_equity_curve3, data, strategy= hybrid)\n",
    "analysis1.print_portfolio_metrics(full=True)\n",
    "analysis2.print_portfolio_metrics(full=True)\n",
    "analysis3.print_portfolio_metrics(full=True)\n",
    "\n",
    "# Plot portfolio PnL\n",
    "OHLCVAnalysis.plot_multiple_portfolio_pnl(\n",
    "    [\n",
    "        (portfolio_equity_curve1, movingaverage),\n",
    "        (portfolio_equity_curve2, RSI),\n",
    "        (portfolio_equity_curve3, hybrid)\n",
    "    ],\n",
    "    data\n",
    ")\n",
    "\n",
    "# Plot portfolio cash and equity allocation\n",
    "analysis1.plot_portfolio_allocations()\n",
    "analysis1.plot_average_position_size()\n",
    "analysis1.plot_portfolio_allocations_pct()\n",
    "analysis1.plot_pnl_decomposition()\n",
    "\n",
    "# (Optional) For a specific asset, you can still use:\n",
    "loaded_ticker = 'AAPL'\n",
    "analysis2.plot_asset_trades(loaded_ticker)\n",
    "analysis2.plot_asset_pnl_with_trades(loaded_ticker)\n",
    "analysis2.plot_asset_equity_allocation_pct(loaded_ticker)\n",
    "analysis2.plot_asset_allocations(loaded_ticker)"
   ]
  }
 ],
 "metadata": {
  "kernelspec": {
   "display_name": "base",
   "language": "python",
   "name": "python3"
  },
  "language_info": {
   "codemirror_mode": {
    "name": "ipython",
    "version": 3
   },
   "file_extension": ".py",
   "mimetype": "text/x-python",
   "name": "python",
   "nbconvert_exporter": "python",
   "pygments_lexer": "ipython3",
   "version": "3.11.5"
  }
 },
 "nbformat": 4,
 "nbformat_minor": 5
}
