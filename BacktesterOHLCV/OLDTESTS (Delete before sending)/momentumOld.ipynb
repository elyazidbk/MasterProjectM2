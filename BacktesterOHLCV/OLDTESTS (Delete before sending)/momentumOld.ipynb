{
 "cells": [
  {
   "cell_type": "code",
   "execution_count": null,
   "id": "c29a5b91",
   "metadata": {
    "vscode": {
     "languageId": "plaintext"
    }
   },
   "outputs": [],
   "source": [
    "# 2. Instantiate strategy\n",
    "movingaverage = MAStrat(name=\"Moving Average\", short_window=50, long_window=200)\n",
    "RSI = RSIStrat(name=\"RSI\")\n",
    "hybrid = MomentumStratOHLCV(name=\"Momentum Hybrid\", short_window =50, long_window=200)\n",
    "hybrid2 = MomentumStratV2(name=\"Momentum Hybrid V2\", short_window =50, long_window=200)"
   ]
  },
  {
   "cell_type": "code",
   "execution_count": null,
   "id": "bd340c5c",
   "metadata": {
    "vscode": {
     "languageId": "plaintext"
    }
   },
   "outputs": [],
   "source": [
    "# 3. Run backtest (multi-asset)\n",
    "backtester_ma = OHLCVBacktester(data, movingaverage, fee_perc=0.0005)\n",
    "backtester_rsi = OHLCVBacktester(data, RSI, fee_perc=0.0005)\n",
    "backtester_hybrid = OHLCVBacktester(data, hybrid, fee_perc=0.0005)\n",
    "backtester_hybrid2 = OHLCVBacktester(data, hybrid2, fee_perc=0.0005)\n",
    "asset_states1, portfolio_equity_curve1 = backtester_ma.run()\n",
    "asset_states2, portfolio_equity_curve2 = backtester_rsi.run()\n",
    "asset_states3, portfolio_equity_curve3 = backtester_hybrid.run()\n",
    "asset_states4, portfolio_equity_curve4 = backtester_hybrid2.run()\n"
   ]
  },
  {
   "cell_type": "code",
   "execution_count": null,
   "id": "3f417246",
   "metadata": {
    "vscode": {
     "languageId": "plaintext"
    }
   },
   "outputs": [],
   "source": [
    "# 4. Analyze and visualize (multi-asset, portfolio focus)\n",
    "analysis1 = OHLCVAnalysis(asset_states1, portfolio_equity_curve1, data, strategy= movingaverage)\n",
    "analysis2 = OHLCVAnalysis(asset_states2, portfolio_equity_curve2, data,strategy= RSI)\n",
    "analysis3 = OHLCVAnalysis(asset_states3, portfolio_equity_curve3, data, strategy= hybrid)\n",
    "analysis4 = OHLCVAnalysis(asset_states4, portfolio_equity_curve4, data, strategy= hybrid2)\n",
    "analysis1.print_portfolio_metrics(full=True)\n",
    "analysis2.print_portfolio_metrics(full=True)\n",
    "analysis3.print_portfolio_metrics(full=True)\n",
    "analysis4.print_portfolio_metrics(full=True)\n",
    "\n",
    "\n",
    "# Plot portfolio PnL\n",
    "OHLCVAnalysis.plot_multiple_portfolio_pnl([analysis1,analysis2,analysis3,analysis4])\n",
    "\n",
    "# Plot portfolio cash and equity allocation\n",
    "analysis1.plot_portfolio_allocations()\n",
    "analysis1.plot_average_position_size()\n",
    "analysis1.plot_portfolio_allocations_pct()\n",
    "analysis1.plot_top_contributors()\n",
    "\n",
    "# (Optional) For a specific asset, you can still use:\n",
    "loaded_ticker = 'AAPL'\n",
    "analysis1.plot_asset_trades(loaded_ticker)\n",
    "analysis2.plot_asset_trades(loaded_ticker)\n",
    "analysis3.plot_asset_trades(loaded_ticker)\n",
    "analysis4.plot_asset_trades(loaded_ticker)\n",
    "\n",
    "analysis1.print_asset_report('AAPL')\n",
    "analysis2.print_asset_report('AAPL')\n",
    "analysis3.print_asset_report('AAPL')\n",
    "analysis4.print_asset_report('AAPL')\n",
    "\n",
    "analysis1.plot_asset_drawdown('AAPL')\n",
    "analysis2.plot_asset_drawdown('AAPL')\n",
    "analysis3.plot_asset_drawdown('AAPL')\n",
    "analysis4.plot_asset_drawdown('AAPL')\n",
    "\n",
    "analysis1.plot_asset_pnl_with_trades(loaded_ticker)\n",
    "analysis2.plot_asset_pnl_with_trades(loaded_ticker)\n",
    "analysis3.plot_asset_pnl_with_trades(loaded_ticker)\n",
    "analysis4.plot_asset_pnl_with_trades(loaded_ticker)\n",
    "analysis3.plot_asset_allocations(loaded_ticker)\n",
    "\n",
    "# Replace 'AAPL' with the desired asset symbol\n",
    "asset_symbol = 'AAPL'\n",
    "for trade in asset_states3[asset_symbol]['trades']:\n",
    "    print(f\"Date: {trade.date}, Side: {trade.side}, Quantity: {trade.quantity}, Price: {trade.price}, Fee: {trade.fee}\")"
   ]
  }
 ],
 "metadata": {
  "language_info": {
   "name": "python"
  }
 },
 "nbformat": 4,
 "nbformat_minor": 5
}
